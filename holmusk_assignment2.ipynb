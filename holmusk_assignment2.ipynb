{
 "cells": [
  {
   "cell_type": "code",
   "execution_count": 54,
   "metadata": {},
   "outputs": [],
   "source": [
    "#load packages\n",
    "import sys\n",
    "import scipy\n",
    "import numpy as np\n",
    "import matplotlib\n",
    "import pandas as pd\n",
    "import sklearn\n",
    "import datetime as dt\n",
    "import seaborn as sns"
   ]
  },
  {
   "cell_type": "code",
   "execution_count": 55,
   "metadata": {},
   "outputs": [],
   "source": [
    "#load datasets\n",
    "approval1 = pd.read_csv('resale-flat-prices-based-on-approval-date-1990-1999.csv')\n",
    "approval2 = pd.read_csv('resale-flat-prices-based-on-approval-date-2000-feb-2012.csv')\n",
    "reg1 = pd.read_csv('resale-flat-prices-based-on-registration-date-from-mar-2012-to-dec-2014.csv')\n",
    "reg2 = pd.read_csv('resale-flat-prices-based-on-registration-date-from-jan-2015-to-dec-2016.csv')\n",
    "reg3 = pd.read_csv('resale-flat-prices-based-on-registration-date-from-jan-2017-onwards.csv')"
   ]
  },
  {
   "cell_type": "code",
   "execution_count": 56,
   "metadata": {},
   "outputs": [],
   "source": [
    "#load dataset of mrt to street\n",
    "distfrommrt = pd.read_csv('street_to_MRT1.csv')\n",
    "distfrommrt = distfrommrt[['street_name','avgdist_nearestMRT']]"
   ]
  },
  {
   "cell_type": "code",
   "execution_count": 57,
   "metadata": {},
   "outputs": [
    {
     "name": "stdout",
     "output_type": "stream",
     "text": [
      "(287200, 10)\n",
      "(369651, 10)\n",
      "(52203, 10)\n",
      "(37153, 11)\n",
      "(92270, 11)\n",
      "(542, 2)\n"
     ]
    }
   ],
   "source": [
    "#shapes of datasets\n",
    "print(approval1.shape)\n",
    "print(approval2.shape)\n",
    "print(reg1.shape)\n",
    "print(reg2.shape)\n",
    "print(reg3.shape)\n",
    "print(distfrommrt.shape)"
   ]
  },
  {
   "cell_type": "markdown",
   "metadata": {},
   "source": [
    "## Data Cleaning"
   ]
  },
  {
   "cell_type": "code",
   "execution_count": 58,
   "metadata": {},
   "outputs": [
    {
     "data": {
      "text/plain": [
       "month                  0\n",
       "town                   0\n",
       "flat_type              0\n",
       "block                  0\n",
       "street_name            0\n",
       "storey_range           0\n",
       "floor_area_sqm         0\n",
       "flat_model             0\n",
       "lease_commence_date    0\n",
       "resale_price           0\n",
       "dtype: int64"
      ]
     },
     "execution_count": 58,
     "metadata": {},
     "output_type": "execute_result"
    }
   ],
   "source": [
    "approval1.isnull().sum()"
   ]
  },
  {
   "cell_type": "code",
   "execution_count": 59,
   "metadata": {},
   "outputs": [
    {
     "data": {
      "text/plain": [
       "month                  0\n",
       "town                   0\n",
       "flat_type              0\n",
       "block                  0\n",
       "street_name            0\n",
       "storey_range           0\n",
       "floor_area_sqm         0\n",
       "flat_model             0\n",
       "lease_commence_date    0\n",
       "resale_price           0\n",
       "dtype: int64"
      ]
     },
     "execution_count": 59,
     "metadata": {},
     "output_type": "execute_result"
    }
   ],
   "source": [
    "approval2.isnull().sum()"
   ]
  },
  {
   "cell_type": "code",
   "execution_count": 60,
   "metadata": {},
   "outputs": [
    {
     "data": {
      "text/plain": [
       "month                  0\n",
       "town                   0\n",
       "flat_type              0\n",
       "block                  0\n",
       "street_name            0\n",
       "storey_range           0\n",
       "floor_area_sqm         0\n",
       "flat_model             0\n",
       "lease_commence_date    0\n",
       "resale_price           0\n",
       "dtype: int64"
      ]
     },
     "execution_count": 60,
     "metadata": {},
     "output_type": "execute_result"
    }
   ],
   "source": [
    "reg1.isnull().sum()"
   ]
  },
  {
   "cell_type": "code",
   "execution_count": 61,
   "metadata": {},
   "outputs": [
    {
     "data": {
      "text/plain": [
       "month                  0\n",
       "town                   0\n",
       "flat_type              0\n",
       "block                  0\n",
       "street_name            0\n",
       "storey_range           0\n",
       "floor_area_sqm         0\n",
       "flat_model             0\n",
       "lease_commence_date    0\n",
       "remaining_lease        0\n",
       "resale_price           0\n",
       "dtype: int64"
      ]
     },
     "execution_count": 61,
     "metadata": {},
     "output_type": "execute_result"
    }
   ],
   "source": [
    "reg2.isnull().sum()"
   ]
  },
  {
   "cell_type": "code",
   "execution_count": 62,
   "metadata": {},
   "outputs": [
    {
     "data": {
      "text/plain": [
       "month                  0\n",
       "town                   0\n",
       "flat_type              0\n",
       "block                  0\n",
       "street_name            0\n",
       "storey_range           0\n",
       "floor_area_sqm         0\n",
       "flat_model             0\n",
       "lease_commence_date    0\n",
       "remaining_lease        0\n",
       "resale_price           0\n",
       "dtype: int64"
      ]
     },
     "execution_count": 62,
     "metadata": {},
     "output_type": "execute_result"
    }
   ],
   "source": [
    "reg3.isnull().sum()"
   ]
  },
  {
   "cell_type": "code",
   "execution_count": 63,
   "metadata": {},
   "outputs": [
    {
     "data": {
      "text/plain": [
       "street_name           0\n",
       "avgdist_nearestMRT    0\n",
       "dtype: int64"
      ]
     },
     "execution_count": 63,
     "metadata": {},
     "output_type": "execute_result"
    }
   ],
   "source": [
    "distfrommrt.isnull().sum()"
   ]
  },
  {
   "cell_type": "code",
   "execution_count": 64,
   "metadata": {},
   "outputs": [
    {
     "data": {
      "text/html": [
       "<div>\n",
       "<style scoped>\n",
       "    .dataframe tbody tr th:only-of-type {\n",
       "        vertical-align: middle;\n",
       "    }\n",
       "\n",
       "    .dataframe tbody tr th {\n",
       "        vertical-align: top;\n",
       "    }\n",
       "\n",
       "    .dataframe thead th {\n",
       "        text-align: right;\n",
       "    }\n",
       "</style>\n",
       "<table border=\"1\" class=\"dataframe\">\n",
       "  <thead>\n",
       "    <tr style=\"text-align: right;\">\n",
       "      <th></th>\n",
       "      <th>street_name</th>\n",
       "      <th>avgdist_nearestMRT</th>\n",
       "    </tr>\n",
       "  </thead>\n",
       "  <tbody>\n",
       "  </tbody>\n",
       "</table>\n",
       "</div>"
      ],
      "text/plain": [
       "Empty DataFrame\n",
       "Columns: [street_name, avgdist_nearestMRT]\n",
       "Index: []"
      ]
     },
     "execution_count": 64,
     "metadata": {},
     "output_type": "execute_result"
    }
   ],
   "source": [
    "distfrommrt[distfrommrt.isnull().any(axis=1)]"
   ]
  },
  {
   "cell_type": "code",
   "execution_count": 65,
   "metadata": {},
   "outputs": [
    {
     "data": {
      "text/plain": [
       "street_name           0\n",
       "avgdist_nearestMRT    0\n",
       "dtype: int64"
      ]
     },
     "execution_count": 65,
     "metadata": {},
     "output_type": "execute_result"
    }
   ],
   "source": [
    "distfrommrt = distfrommrt.dropna()\n",
    "distfrommrt.isnull().sum()"
   ]
  },
  {
   "cell_type": "markdown",
   "metadata": {},
   "source": [
    "## Adding missing remaining_lease column to datasets"
   ]
  },
  {
   "cell_type": "markdown",
   "metadata": {},
   "source": [
    "Since we do not have data for when each house was sold, we cannot get a more accurate value for remaining lease. Thus, we settle for using remaining years of lease in the remaining_lease column."
   ]
  },
  {
   "cell_type": "code",
   "execution_count": 66,
   "metadata": {},
   "outputs": [
    {
     "data": {
      "text/html": [
       "<div>\n",
       "<style scoped>\n",
       "    .dataframe tbody tr th:only-of-type {\n",
       "        vertical-align: middle;\n",
       "    }\n",
       "\n",
       "    .dataframe tbody tr th {\n",
       "        vertical-align: top;\n",
       "    }\n",
       "\n",
       "    .dataframe thead th {\n",
       "        text-align: right;\n",
       "    }\n",
       "</style>\n",
       "<table border=\"1\" class=\"dataframe\">\n",
       "  <thead>\n",
       "    <tr style=\"text-align: right;\">\n",
       "      <th></th>\n",
       "      <th>month</th>\n",
       "      <th>town</th>\n",
       "      <th>flat_type</th>\n",
       "      <th>block</th>\n",
       "      <th>street_name</th>\n",
       "      <th>storey_range</th>\n",
       "      <th>floor_area_sqm</th>\n",
       "      <th>flat_model</th>\n",
       "      <th>lease_commence_date</th>\n",
       "      <th>resale_price</th>\n",
       "      <th>remaining_lease</th>\n",
       "    </tr>\n",
       "  </thead>\n",
       "  <tbody>\n",
       "    <tr>\n",
       "      <th>0</th>\n",
       "      <td>1990-01</td>\n",
       "      <td>ANG MO KIO</td>\n",
       "      <td>1 ROOM</td>\n",
       "      <td>309</td>\n",
       "      <td>ANG MO KIO AVE 1</td>\n",
       "      <td>10 TO 12</td>\n",
       "      <td>31.0</td>\n",
       "      <td>IMPROVED</td>\n",
       "      <td>1977</td>\n",
       "      <td>9000</td>\n",
       "      <td>86</td>\n",
       "    </tr>\n",
       "    <tr>\n",
       "      <th>1</th>\n",
       "      <td>1990-01</td>\n",
       "      <td>ANG MO KIO</td>\n",
       "      <td>1 ROOM</td>\n",
       "      <td>309</td>\n",
       "      <td>ANG MO KIO AVE 1</td>\n",
       "      <td>04 TO 06</td>\n",
       "      <td>31.0</td>\n",
       "      <td>IMPROVED</td>\n",
       "      <td>1977</td>\n",
       "      <td>6000</td>\n",
       "      <td>86</td>\n",
       "    </tr>\n",
       "    <tr>\n",
       "      <th>2</th>\n",
       "      <td>1990-01</td>\n",
       "      <td>ANG MO KIO</td>\n",
       "      <td>1 ROOM</td>\n",
       "      <td>309</td>\n",
       "      <td>ANG MO KIO AVE 1</td>\n",
       "      <td>10 TO 12</td>\n",
       "      <td>31.0</td>\n",
       "      <td>IMPROVED</td>\n",
       "      <td>1977</td>\n",
       "      <td>8000</td>\n",
       "      <td>86</td>\n",
       "    </tr>\n",
       "  </tbody>\n",
       "</table>\n",
       "</div>"
      ],
      "text/plain": [
       "     month        town flat_type block       street_name storey_range  \\\n",
       "0  1990-01  ANG MO KIO    1 ROOM   309  ANG MO KIO AVE 1     10 TO 12   \n",
       "1  1990-01  ANG MO KIO    1 ROOM   309  ANG MO KIO AVE 1     04 TO 06   \n",
       "2  1990-01  ANG MO KIO    1 ROOM   309  ANG MO KIO AVE 1     10 TO 12   \n",
       "\n",
       "   floor_area_sqm flat_model  lease_commence_date  resale_price  \\\n",
       "0            31.0   IMPROVED                 1977          9000   \n",
       "1            31.0   IMPROVED                 1977          6000   \n",
       "2            31.0   IMPROVED                 1977          8000   \n",
       "\n",
       "   remaining_lease  \n",
       "0               86  \n",
       "1               86  \n",
       "2               86  "
      ]
     },
     "execution_count": 66,
     "metadata": {},
     "output_type": "execute_result"
    }
   ],
   "source": [
    "#add remaining lease column to approval1\n",
    "date = approval1['month']\n",
    "date = pd.to_datetime(date)\n",
    "year_sold = date.dt.year\n",
    "approval1['year_sold'] = year_sold\n",
    "approval1['remaining_lease'] = 99 - (approval1['year_sold'] - approval1['lease_commence_date'])\n",
    "approval1.drop('year_sold',axis='columns', inplace=True)\n",
    "approval1.head(3)"
   ]
  },
  {
   "cell_type": "code",
   "execution_count": 67,
   "metadata": {},
   "outputs": [
    {
     "data": {
      "text/html": [
       "<div>\n",
       "<style scoped>\n",
       "    .dataframe tbody tr th:only-of-type {\n",
       "        vertical-align: middle;\n",
       "    }\n",
       "\n",
       "    .dataframe tbody tr th {\n",
       "        vertical-align: top;\n",
       "    }\n",
       "\n",
       "    .dataframe thead th {\n",
       "        text-align: right;\n",
       "    }\n",
       "</style>\n",
       "<table border=\"1\" class=\"dataframe\">\n",
       "  <thead>\n",
       "    <tr style=\"text-align: right;\">\n",
       "      <th></th>\n",
       "      <th>month</th>\n",
       "      <th>town</th>\n",
       "      <th>flat_type</th>\n",
       "      <th>block</th>\n",
       "      <th>street_name</th>\n",
       "      <th>storey_range</th>\n",
       "      <th>floor_area_sqm</th>\n",
       "      <th>flat_model</th>\n",
       "      <th>lease_commence_date</th>\n",
       "      <th>resale_price</th>\n",
       "      <th>remaining_lease</th>\n",
       "    </tr>\n",
       "  </thead>\n",
       "  <tbody>\n",
       "    <tr>\n",
       "      <th>0</th>\n",
       "      <td>2000-01</td>\n",
       "      <td>ANG MO KIO</td>\n",
       "      <td>3 ROOM</td>\n",
       "      <td>170</td>\n",
       "      <td>ANG MO KIO AVE 4</td>\n",
       "      <td>07 TO 09</td>\n",
       "      <td>69.0</td>\n",
       "      <td>Improved</td>\n",
       "      <td>1986</td>\n",
       "      <td>147000.0</td>\n",
       "      <td>85</td>\n",
       "    </tr>\n",
       "    <tr>\n",
       "      <th>1</th>\n",
       "      <td>2000-01</td>\n",
       "      <td>ANG MO KIO</td>\n",
       "      <td>3 ROOM</td>\n",
       "      <td>174</td>\n",
       "      <td>ANG MO KIO AVE 4</td>\n",
       "      <td>04 TO 06</td>\n",
       "      <td>61.0</td>\n",
       "      <td>Improved</td>\n",
       "      <td>1986</td>\n",
       "      <td>144000.0</td>\n",
       "      <td>85</td>\n",
       "    </tr>\n",
       "    <tr>\n",
       "      <th>2</th>\n",
       "      <td>2000-01</td>\n",
       "      <td>ANG MO KIO</td>\n",
       "      <td>3 ROOM</td>\n",
       "      <td>216</td>\n",
       "      <td>ANG MO KIO AVE 1</td>\n",
       "      <td>07 TO 09</td>\n",
       "      <td>73.0</td>\n",
       "      <td>New Generation</td>\n",
       "      <td>1976</td>\n",
       "      <td>159000.0</td>\n",
       "      <td>75</td>\n",
       "    </tr>\n",
       "  </tbody>\n",
       "</table>\n",
       "</div>"
      ],
      "text/plain": [
       "     month        town flat_type block       street_name storey_range  \\\n",
       "0  2000-01  ANG MO KIO    3 ROOM   170  ANG MO KIO AVE 4     07 TO 09   \n",
       "1  2000-01  ANG MO KIO    3 ROOM   174  ANG MO KIO AVE 4     04 TO 06   \n",
       "2  2000-01  ANG MO KIO    3 ROOM   216  ANG MO KIO AVE 1     07 TO 09   \n",
       "\n",
       "   floor_area_sqm      flat_model  lease_commence_date  resale_price  \\\n",
       "0            69.0        Improved                 1986      147000.0   \n",
       "1            61.0        Improved                 1986      144000.0   \n",
       "2            73.0  New Generation                 1976      159000.0   \n",
       "\n",
       "   remaining_lease  \n",
       "0               85  \n",
       "1               85  \n",
       "2               75  "
      ]
     },
     "execution_count": 67,
     "metadata": {},
     "output_type": "execute_result"
    }
   ],
   "source": [
    "#add remaining lease column to approval2\n",
    "date = approval2['month']\n",
    "date = pd.to_datetime(date)\n",
    "year_sold = date.dt.year\n",
    "approval2['year_sold'] = year_sold\n",
    "approval2['remaining_lease'] = 99 - (approval2['year_sold'] - approval2['lease_commence_date'])\n",
    "approval2.drop('year_sold',axis='columns', inplace=True)\n",
    "approval2.head(3)"
   ]
  },
  {
   "cell_type": "code",
   "execution_count": 68,
   "metadata": {},
   "outputs": [
    {
     "data": {
      "text/html": [
       "<div>\n",
       "<style scoped>\n",
       "    .dataframe tbody tr th:only-of-type {\n",
       "        vertical-align: middle;\n",
       "    }\n",
       "\n",
       "    .dataframe tbody tr th {\n",
       "        vertical-align: top;\n",
       "    }\n",
       "\n",
       "    .dataframe thead th {\n",
       "        text-align: right;\n",
       "    }\n",
       "</style>\n",
       "<table border=\"1\" class=\"dataframe\">\n",
       "  <thead>\n",
       "    <tr style=\"text-align: right;\">\n",
       "      <th></th>\n",
       "      <th>month</th>\n",
       "      <th>town</th>\n",
       "      <th>flat_type</th>\n",
       "      <th>block</th>\n",
       "      <th>street_name</th>\n",
       "      <th>storey_range</th>\n",
       "      <th>floor_area_sqm</th>\n",
       "      <th>flat_model</th>\n",
       "      <th>lease_commence_date</th>\n",
       "      <th>resale_price</th>\n",
       "      <th>remaining_lease</th>\n",
       "    </tr>\n",
       "  </thead>\n",
       "  <tbody>\n",
       "    <tr>\n",
       "      <th>0</th>\n",
       "      <td>2012-03</td>\n",
       "      <td>ANG MO KIO</td>\n",
       "      <td>2 ROOM</td>\n",
       "      <td>172</td>\n",
       "      <td>ANG MO KIO AVE 4</td>\n",
       "      <td>06 TO 10</td>\n",
       "      <td>45.0</td>\n",
       "      <td>Improved</td>\n",
       "      <td>1986</td>\n",
       "      <td>250000.0</td>\n",
       "      <td>73</td>\n",
       "    </tr>\n",
       "    <tr>\n",
       "      <th>1</th>\n",
       "      <td>2012-03</td>\n",
       "      <td>ANG MO KIO</td>\n",
       "      <td>2 ROOM</td>\n",
       "      <td>510</td>\n",
       "      <td>ANG MO KIO AVE 8</td>\n",
       "      <td>01 TO 05</td>\n",
       "      <td>44.0</td>\n",
       "      <td>Improved</td>\n",
       "      <td>1980</td>\n",
       "      <td>265000.0</td>\n",
       "      <td>67</td>\n",
       "    </tr>\n",
       "    <tr>\n",
       "      <th>2</th>\n",
       "      <td>2012-03</td>\n",
       "      <td>ANG MO KIO</td>\n",
       "      <td>3 ROOM</td>\n",
       "      <td>610</td>\n",
       "      <td>ANG MO KIO AVE 4</td>\n",
       "      <td>06 TO 10</td>\n",
       "      <td>68.0</td>\n",
       "      <td>New Generation</td>\n",
       "      <td>1980</td>\n",
       "      <td>315000.0</td>\n",
       "      <td>67</td>\n",
       "    </tr>\n",
       "  </tbody>\n",
       "</table>\n",
       "</div>"
      ],
      "text/plain": [
       "     month        town flat_type block       street_name storey_range  \\\n",
       "0  2012-03  ANG MO KIO    2 ROOM   172  ANG MO KIO AVE 4     06 TO 10   \n",
       "1  2012-03  ANG MO KIO    2 ROOM   510  ANG MO KIO AVE 8     01 TO 05   \n",
       "2  2012-03  ANG MO KIO    3 ROOM   610  ANG MO KIO AVE 4     06 TO 10   \n",
       "\n",
       "   floor_area_sqm      flat_model  lease_commence_date  resale_price  \\\n",
       "0            45.0        Improved                 1986      250000.0   \n",
       "1            44.0        Improved                 1980      265000.0   \n",
       "2            68.0  New Generation                 1980      315000.0   \n",
       "\n",
       "   remaining_lease  \n",
       "0               73  \n",
       "1               67  \n",
       "2               67  "
      ]
     },
     "execution_count": 68,
     "metadata": {},
     "output_type": "execute_result"
    }
   ],
   "source": [
    "#add remaining lease column to reg1\n",
    "date = reg1['month']\n",
    "date = pd.to_datetime(date)\n",
    "year_sold = date.dt.year\n",
    "reg1['year_sold'] = year_sold\n",
    "reg1['remaining_lease'] = 99 - (reg1['year_sold'] - reg1['lease_commence_date'])\n",
    "reg1.drop('year_sold',axis='columns', inplace=True)\n",
    "reg1.head(3)"
   ]
  },
  {
   "cell_type": "code",
   "execution_count": 69,
   "metadata": {},
   "outputs": [
    {
     "data": {
      "text/html": [
       "<div>\n",
       "<style scoped>\n",
       "    .dataframe tbody tr th:only-of-type {\n",
       "        vertical-align: middle;\n",
       "    }\n",
       "\n",
       "    .dataframe tbody tr th {\n",
       "        vertical-align: top;\n",
       "    }\n",
       "\n",
       "    .dataframe thead th {\n",
       "        text-align: right;\n",
       "    }\n",
       "</style>\n",
       "<table border=\"1\" class=\"dataframe\">\n",
       "  <thead>\n",
       "    <tr style=\"text-align: right;\">\n",
       "      <th></th>\n",
       "      <th>month</th>\n",
       "      <th>town</th>\n",
       "      <th>flat_type</th>\n",
       "      <th>block</th>\n",
       "      <th>street_name</th>\n",
       "      <th>storey_range</th>\n",
       "      <th>floor_area_sqm</th>\n",
       "      <th>flat_model</th>\n",
       "      <th>lease_commence_date</th>\n",
       "      <th>remaining_lease</th>\n",
       "      <th>resale_price</th>\n",
       "    </tr>\n",
       "  </thead>\n",
       "  <tbody>\n",
       "    <tr>\n",
       "      <th>0</th>\n",
       "      <td>2015-01</td>\n",
       "      <td>ANG MO KIO</td>\n",
       "      <td>3 ROOM</td>\n",
       "      <td>174</td>\n",
       "      <td>ANG MO KIO AVE 4</td>\n",
       "      <td>07 TO 09</td>\n",
       "      <td>60.0</td>\n",
       "      <td>Improved</td>\n",
       "      <td>1986</td>\n",
       "      <td>70</td>\n",
       "      <td>255000.0</td>\n",
       "    </tr>\n",
       "    <tr>\n",
       "      <th>1</th>\n",
       "      <td>2015-01</td>\n",
       "      <td>ANG MO KIO</td>\n",
       "      <td>3 ROOM</td>\n",
       "      <td>541</td>\n",
       "      <td>ANG MO KIO AVE 10</td>\n",
       "      <td>01 TO 03</td>\n",
       "      <td>68.0</td>\n",
       "      <td>New Generation</td>\n",
       "      <td>1981</td>\n",
       "      <td>65</td>\n",
       "      <td>275000.0</td>\n",
       "    </tr>\n",
       "    <tr>\n",
       "      <th>2</th>\n",
       "      <td>2015-01</td>\n",
       "      <td>ANG MO KIO</td>\n",
       "      <td>3 ROOM</td>\n",
       "      <td>163</td>\n",
       "      <td>ANG MO KIO AVE 4</td>\n",
       "      <td>01 TO 03</td>\n",
       "      <td>69.0</td>\n",
       "      <td>New Generation</td>\n",
       "      <td>1980</td>\n",
       "      <td>64</td>\n",
       "      <td>285000.0</td>\n",
       "    </tr>\n",
       "  </tbody>\n",
       "</table>\n",
       "</div>"
      ],
      "text/plain": [
       "     month        town flat_type block        street_name storey_range  \\\n",
       "0  2015-01  ANG MO KIO    3 ROOM   174   ANG MO KIO AVE 4     07 TO 09   \n",
       "1  2015-01  ANG MO KIO    3 ROOM   541  ANG MO KIO AVE 10     01 TO 03   \n",
       "2  2015-01  ANG MO KIO    3 ROOM   163   ANG MO KIO AVE 4     01 TO 03   \n",
       "\n",
       "   floor_area_sqm      flat_model  lease_commence_date  remaining_lease  \\\n",
       "0            60.0        Improved                 1986               70   \n",
       "1            68.0  New Generation                 1981               65   \n",
       "2            69.0  New Generation                 1980               64   \n",
       "\n",
       "   resale_price  \n",
       "0      255000.0  \n",
       "1      275000.0  \n",
       "2      285000.0  "
      ]
     },
     "execution_count": 69,
     "metadata": {},
     "output_type": "execute_result"
    }
   ],
   "source": [
    "reg2.head(3)"
   ]
  },
  {
   "cell_type": "code",
   "execution_count": 70,
   "metadata": {},
   "outputs": [
    {
     "data": {
      "text/html": [
       "<div>\n",
       "<style scoped>\n",
       "    .dataframe tbody tr th:only-of-type {\n",
       "        vertical-align: middle;\n",
       "    }\n",
       "\n",
       "    .dataframe tbody tr th {\n",
       "        vertical-align: top;\n",
       "    }\n",
       "\n",
       "    .dataframe thead th {\n",
       "        text-align: right;\n",
       "    }\n",
       "</style>\n",
       "<table border=\"1\" class=\"dataframe\">\n",
       "  <thead>\n",
       "    <tr style=\"text-align: right;\">\n",
       "      <th></th>\n",
       "      <th>month</th>\n",
       "      <th>town</th>\n",
       "      <th>flat_type</th>\n",
       "      <th>block</th>\n",
       "      <th>street_name</th>\n",
       "      <th>storey_range</th>\n",
       "      <th>floor_area_sqm</th>\n",
       "      <th>flat_model</th>\n",
       "      <th>lease_commence_date</th>\n",
       "      <th>remaining_lease</th>\n",
       "      <th>resale_price</th>\n",
       "    </tr>\n",
       "  </thead>\n",
       "  <tbody>\n",
       "    <tr>\n",
       "      <th>0</th>\n",
       "      <td>2017-01</td>\n",
       "      <td>ANG MO KIO</td>\n",
       "      <td>2 ROOM</td>\n",
       "      <td>406</td>\n",
       "      <td>ANG MO KIO AVE 10</td>\n",
       "      <td>10 TO 12</td>\n",
       "      <td>44.0</td>\n",
       "      <td>Improved</td>\n",
       "      <td>1979</td>\n",
       "      <td>61</td>\n",
       "      <td>232000.0</td>\n",
       "    </tr>\n",
       "    <tr>\n",
       "      <th>1</th>\n",
       "      <td>2017-01</td>\n",
       "      <td>ANG MO KIO</td>\n",
       "      <td>3 ROOM</td>\n",
       "      <td>108</td>\n",
       "      <td>ANG MO KIO AVE 4</td>\n",
       "      <td>01 TO 03</td>\n",
       "      <td>67.0</td>\n",
       "      <td>New Generation</td>\n",
       "      <td>1978</td>\n",
       "      <td>60</td>\n",
       "      <td>250000.0</td>\n",
       "    </tr>\n",
       "    <tr>\n",
       "      <th>2</th>\n",
       "      <td>2017-01</td>\n",
       "      <td>ANG MO KIO</td>\n",
       "      <td>3 ROOM</td>\n",
       "      <td>602</td>\n",
       "      <td>ANG MO KIO AVE 5</td>\n",
       "      <td>01 TO 03</td>\n",
       "      <td>67.0</td>\n",
       "      <td>New Generation</td>\n",
       "      <td>1980</td>\n",
       "      <td>62</td>\n",
       "      <td>262000.0</td>\n",
       "    </tr>\n",
       "  </tbody>\n",
       "</table>\n",
       "</div>"
      ],
      "text/plain": [
       "     month        town flat_type block        street_name storey_range  \\\n",
       "0  2017-01  ANG MO KIO    2 ROOM   406  ANG MO KIO AVE 10     10 TO 12   \n",
       "1  2017-01  ANG MO KIO    3 ROOM   108   ANG MO KIO AVE 4     01 TO 03   \n",
       "2  2017-01  ANG MO KIO    3 ROOM   602   ANG MO KIO AVE 5     01 TO 03   \n",
       "\n",
       "   floor_area_sqm      flat_model  lease_commence_date  remaining_lease  \\\n",
       "0            44.0        Improved                 1979               61   \n",
       "1            67.0  New Generation                 1978               60   \n",
       "2            67.0  New Generation                 1980               62   \n",
       "\n",
       "   resale_price  \n",
       "0      232000.0  \n",
       "1      250000.0  \n",
       "2      262000.0  "
      ]
     },
     "execution_count": 70,
     "metadata": {},
     "output_type": "execute_result"
    }
   ],
   "source": [
    "reg3['remaining_lease'] = reg3['remaining_lease'].str.split(' ').str[0]\n",
    "reg3['remaining_lease'] = pd.to_numeric(reg3['remaining_lease'],downcast='integer')\n",
    "reg3.head(3)"
   ]
  },
  {
   "cell_type": "code",
   "execution_count": 71,
   "metadata": {},
   "outputs": [
    {
     "data": {
      "text/html": [
       "<div>\n",
       "<style scoped>\n",
       "    .dataframe tbody tr th:only-of-type {\n",
       "        vertical-align: middle;\n",
       "    }\n",
       "\n",
       "    .dataframe tbody tr th {\n",
       "        vertical-align: top;\n",
       "    }\n",
       "\n",
       "    .dataframe thead th {\n",
       "        text-align: right;\n",
       "    }\n",
       "</style>\n",
       "<table border=\"1\" class=\"dataframe\">\n",
       "  <thead>\n",
       "    <tr style=\"text-align: right;\">\n",
       "      <th></th>\n",
       "      <th>street_name</th>\n",
       "      <th>avgdist_nearestMRT</th>\n",
       "    </tr>\n",
       "  </thead>\n",
       "  <tbody>\n",
       "    <tr>\n",
       "      <th>0</th>\n",
       "      <td>ADMIRALTY DR</td>\n",
       "      <td>0.506266</td>\n",
       "    </tr>\n",
       "    <tr>\n",
       "      <th>1</th>\n",
       "      <td>ADMIRALTY LINK</td>\n",
       "      <td>0.852994</td>\n",
       "    </tr>\n",
       "    <tr>\n",
       "      <th>2</th>\n",
       "      <td>AH HOOD RD</td>\n",
       "      <td>0.651477</td>\n",
       "    </tr>\n",
       "  </tbody>\n",
       "</table>\n",
       "</div>"
      ],
      "text/plain": [
       "      street_name  avgdist_nearestMRT\n",
       "0    ADMIRALTY DR            0.506266\n",
       "1  ADMIRALTY LINK            0.852994\n",
       "2      AH HOOD RD            0.651477"
      ]
     },
     "execution_count": 71,
     "metadata": {},
     "output_type": "execute_result"
    }
   ],
   "source": [
    "distfrommrt.head(3)"
   ]
  },
  {
   "cell_type": "code",
   "execution_count": 72,
   "metadata": {},
   "outputs": [
    {
     "data": {
      "text/html": [
       "<div>\n",
       "<style scoped>\n",
       "    .dataframe tbody tr th:only-of-type {\n",
       "        vertical-align: middle;\n",
       "    }\n",
       "\n",
       "    .dataframe tbody tr th {\n",
       "        vertical-align: top;\n",
       "    }\n",
       "\n",
       "    .dataframe thead th {\n",
       "        text-align: right;\n",
       "    }\n",
       "</style>\n",
       "<table border=\"1\" class=\"dataframe\">\n",
       "  <thead>\n",
       "    <tr style=\"text-align: right;\">\n",
       "      <th></th>\n",
       "      <th>month</th>\n",
       "      <th>town</th>\n",
       "      <th>flat_type</th>\n",
       "      <th>block</th>\n",
       "      <th>street_name</th>\n",
       "      <th>storey_range</th>\n",
       "      <th>floor_area_sqm</th>\n",
       "      <th>flat_model</th>\n",
       "      <th>lease_commence_date</th>\n",
       "      <th>resale_price</th>\n",
       "      <th>remaining_lease</th>\n",
       "    </tr>\n",
       "  </thead>\n",
       "  <tbody>\n",
       "    <tr>\n",
       "      <th>0</th>\n",
       "      <td>1990-01</td>\n",
       "      <td>ANG MO KIO</td>\n",
       "      <td>1 ROOM</td>\n",
       "      <td>309</td>\n",
       "      <td>ANG MO KIO AVE 1</td>\n",
       "      <td>10 TO 12</td>\n",
       "      <td>31.0</td>\n",
       "      <td>IMPROVED</td>\n",
       "      <td>1977</td>\n",
       "      <td>9000.0</td>\n",
       "      <td>86</td>\n",
       "    </tr>\n",
       "    <tr>\n",
       "      <th>1</th>\n",
       "      <td>1990-01</td>\n",
       "      <td>ANG MO KIO</td>\n",
       "      <td>1 ROOM</td>\n",
       "      <td>309</td>\n",
       "      <td>ANG MO KIO AVE 1</td>\n",
       "      <td>04 TO 06</td>\n",
       "      <td>31.0</td>\n",
       "      <td>IMPROVED</td>\n",
       "      <td>1977</td>\n",
       "      <td>6000.0</td>\n",
       "      <td>86</td>\n",
       "    </tr>\n",
       "    <tr>\n",
       "      <th>2</th>\n",
       "      <td>1990-01</td>\n",
       "      <td>ANG MO KIO</td>\n",
       "      <td>1 ROOM</td>\n",
       "      <td>309</td>\n",
       "      <td>ANG MO KIO AVE 1</td>\n",
       "      <td>10 TO 12</td>\n",
       "      <td>31.0</td>\n",
       "      <td>IMPROVED</td>\n",
       "      <td>1977</td>\n",
       "      <td>8000.0</td>\n",
       "      <td>86</td>\n",
       "    </tr>\n",
       "    <tr>\n",
       "      <th>3</th>\n",
       "      <td>1990-01</td>\n",
       "      <td>ANG MO KIO</td>\n",
       "      <td>1 ROOM</td>\n",
       "      <td>309</td>\n",
       "      <td>ANG MO KIO AVE 1</td>\n",
       "      <td>07 TO 09</td>\n",
       "      <td>31.0</td>\n",
       "      <td>IMPROVED</td>\n",
       "      <td>1977</td>\n",
       "      <td>6000.0</td>\n",
       "      <td>86</td>\n",
       "    </tr>\n",
       "    <tr>\n",
       "      <th>4</th>\n",
       "      <td>1990-01</td>\n",
       "      <td>ANG MO KIO</td>\n",
       "      <td>3 ROOM</td>\n",
       "      <td>216</td>\n",
       "      <td>ANG MO KIO AVE 1</td>\n",
       "      <td>04 TO 06</td>\n",
       "      <td>73.0</td>\n",
       "      <td>NEW GENERATION</td>\n",
       "      <td>1976</td>\n",
       "      <td>47200.0</td>\n",
       "      <td>85</td>\n",
       "    </tr>\n",
       "  </tbody>\n",
       "</table>\n",
       "</div>"
      ],
      "text/plain": [
       "     month        town flat_type block       street_name storey_range  \\\n",
       "0  1990-01  ANG MO KIO    1 ROOM   309  ANG MO KIO AVE 1     10 TO 12   \n",
       "1  1990-01  ANG MO KIO    1 ROOM   309  ANG MO KIO AVE 1     04 TO 06   \n",
       "2  1990-01  ANG MO KIO    1 ROOM   309  ANG MO KIO AVE 1     10 TO 12   \n",
       "3  1990-01  ANG MO KIO    1 ROOM   309  ANG MO KIO AVE 1     07 TO 09   \n",
       "4  1990-01  ANG MO KIO    3 ROOM   216  ANG MO KIO AVE 1     04 TO 06   \n",
       "\n",
       "   floor_area_sqm      flat_model  lease_commence_date  resale_price  \\\n",
       "0            31.0        IMPROVED                 1977        9000.0   \n",
       "1            31.0        IMPROVED                 1977        6000.0   \n",
       "2            31.0        IMPROVED                 1977        8000.0   \n",
       "3            31.0        IMPROVED                 1977        6000.0   \n",
       "4            73.0  NEW GENERATION                 1976       47200.0   \n",
       "\n",
       "   remaining_lease  \n",
       "0               86  \n",
       "1               86  \n",
       "2               86  \n",
       "3               86  \n",
       "4               85  "
      ]
     },
     "execution_count": 72,
     "metadata": {},
     "output_type": "execute_result"
    }
   ],
   "source": [
    "#concatenate all the dataframes of houses sold together\n",
    "frames = [approval1, approval2, reg1, reg2, reg3]\n",
    "df = pd.concat(frames)\n",
    "df.head(5)"
   ]
  },
  {
   "cell_type": "code",
   "execution_count": null,
   "metadata": {},
   "outputs": [],
   "source": []
  },
  {
   "cell_type": "markdown",
   "metadata": {},
   "source": [
    "## Adding missing dist_nearestMRT column to datasets"
   ]
  },
  {
   "cell_type": "markdown",
   "metadata": {},
   "source": [
    "Taking a look at the distfrommrt dataset, it has two columns, street_name and dist_nearestMRT. Initially, it had many duplicate rows for each street_name, with different values for dist_nearestMRT. I assume this is because different blocks on a street are varying distances from the MRT stations. I used pivot table functions in Excel to calculate the average distance from each street to the nearest MRT station."
   ]
  },
  {
   "cell_type": "code",
   "execution_count": 73,
   "metadata": {},
   "outputs": [
    {
     "data": {
      "text/html": [
       "<div>\n",
       "<style scoped>\n",
       "    .dataframe tbody tr th:only-of-type {\n",
       "        vertical-align: middle;\n",
       "    }\n",
       "\n",
       "    .dataframe tbody tr th {\n",
       "        vertical-align: top;\n",
       "    }\n",
       "\n",
       "    .dataframe thead th {\n",
       "        text-align: right;\n",
       "    }\n",
       "</style>\n",
       "<table border=\"1\" class=\"dataframe\">\n",
       "  <thead>\n",
       "    <tr style=\"text-align: right;\">\n",
       "      <th></th>\n",
       "      <th>month</th>\n",
       "      <th>town</th>\n",
       "      <th>flat_type</th>\n",
       "      <th>block</th>\n",
       "      <th>street_name</th>\n",
       "      <th>storey_range</th>\n",
       "      <th>floor_area_sqm</th>\n",
       "      <th>flat_model</th>\n",
       "      <th>lease_commence_date</th>\n",
       "      <th>resale_price</th>\n",
       "      <th>remaining_lease</th>\n",
       "      <th>avgdist_nearestMRT</th>\n",
       "    </tr>\n",
       "  </thead>\n",
       "  <tbody>\n",
       "    <tr>\n",
       "      <th>350899</th>\n",
       "      <td>2001-10</td>\n",
       "      <td>BUKIT BATOK</td>\n",
       "      <td>4 ROOM</td>\n",
       "      <td>291B</td>\n",
       "      <td>BT BATOK ST 24</td>\n",
       "      <td>07 TO 09</td>\n",
       "      <td>103.0</td>\n",
       "      <td>Model A</td>\n",
       "      <td>1998</td>\n",
       "      <td>256000.0</td>\n",
       "      <td>96</td>\n",
       "      <td>0.973644</td>\n",
       "    </tr>\n",
       "    <tr>\n",
       "      <th>12692</th>\n",
       "      <td>1991-01</td>\n",
       "      <td>ANG MO KIO</td>\n",
       "      <td>4 ROOM</td>\n",
       "      <td>473</td>\n",
       "      <td>ANG MO KIO AVE 10</td>\n",
       "      <td>10 TO 12</td>\n",
       "      <td>91.0</td>\n",
       "      <td>NEW GENERATION</td>\n",
       "      <td>1984</td>\n",
       "      <td>70000.0</td>\n",
       "      <td>92</td>\n",
       "      <td>0.863806</td>\n",
       "    </tr>\n",
       "    <tr>\n",
       "      <th>302195</th>\n",
       "      <td>2000-06</td>\n",
       "      <td>PASIR RIS</td>\n",
       "      <td>5 ROOM</td>\n",
       "      <td>736</td>\n",
       "      <td>PASIR RIS DR 10</td>\n",
       "      <td>01 TO 03</td>\n",
       "      <td>126.0</td>\n",
       "      <td>Improved</td>\n",
       "      <td>1996</td>\n",
       "      <td>360000.0</td>\n",
       "      <td>95</td>\n",
       "      <td>1.470040</td>\n",
       "    </tr>\n",
       "    <tr>\n",
       "      <th>314535</th>\n",
       "      <td>2000-10</td>\n",
       "      <td>PASIR RIS</td>\n",
       "      <td>4 ROOM</td>\n",
       "      <td>639</td>\n",
       "      <td>PASIR RIS DR 1</td>\n",
       "      <td>10 TO 12</td>\n",
       "      <td>104.0</td>\n",
       "      <td>Model A</td>\n",
       "      <td>1995</td>\n",
       "      <td>286000.0</td>\n",
       "      <td>94</td>\n",
       "      <td>0.857870</td>\n",
       "    </tr>\n",
       "    <tr>\n",
       "      <th>755357</th>\n",
       "      <td>2017-06</td>\n",
       "      <td>SEMBAWANG</td>\n",
       "      <td>EXECUTIVE</td>\n",
       "      <td>503A</td>\n",
       "      <td>CANBERRA LINK</td>\n",
       "      <td>07 TO 09</td>\n",
       "      <td>130.0</td>\n",
       "      <td>Apartment</td>\n",
       "      <td>2001</td>\n",
       "      <td>488000.0</td>\n",
       "      <td>83</td>\n",
       "      <td>0.323211</td>\n",
       "    </tr>\n",
       "    <tr>\n",
       "      <th>539133</th>\n",
       "      <td>2008-01</td>\n",
       "      <td>BUKIT BATOK</td>\n",
       "      <td>4 ROOM</td>\n",
       "      <td>383</td>\n",
       "      <td>BT BATOK WEST AVE 5</td>\n",
       "      <td>22 TO 24</td>\n",
       "      <td>92.0</td>\n",
       "      <td>Model A</td>\n",
       "      <td>2005</td>\n",
       "      <td>368000.0</td>\n",
       "      <td>96</td>\n",
       "      <td>0.601363</td>\n",
       "    </tr>\n",
       "    <tr>\n",
       "      <th>673294</th>\n",
       "      <td>2012-10</td>\n",
       "      <td>TOA PAYOH</td>\n",
       "      <td>3 ROOM</td>\n",
       "      <td>126</td>\n",
       "      <td>LOR 1 TOA PAYOH</td>\n",
       "      <td>16 TO 18</td>\n",
       "      <td>67.0</td>\n",
       "      <td>Improved</td>\n",
       "      <td>1970</td>\n",
       "      <td>354000.0</td>\n",
       "      <td>57</td>\n",
       "      <td>0.319760</td>\n",
       "    </tr>\n",
       "    <tr>\n",
       "      <th>642527</th>\n",
       "      <td>2011-06</td>\n",
       "      <td>SENGKANG</td>\n",
       "      <td>4 ROOM</td>\n",
       "      <td>230</td>\n",
       "      <td>COMPASSVALE WALK</td>\n",
       "      <td>13 TO 15</td>\n",
       "      <td>101.0</td>\n",
       "      <td>Model A</td>\n",
       "      <td>1999</td>\n",
       "      <td>440000.0</td>\n",
       "      <td>87</td>\n",
       "      <td>0.529273</td>\n",
       "    </tr>\n",
       "    <tr>\n",
       "      <th>464126</th>\n",
       "      <td>2005-04</td>\n",
       "      <td>SENGKANG</td>\n",
       "      <td>5 ROOM</td>\n",
       "      <td>226B</td>\n",
       "      <td>COMPASSVALE WALK</td>\n",
       "      <td>16 TO 18</td>\n",
       "      <td>115.0</td>\n",
       "      <td>Improved</td>\n",
       "      <td>1999</td>\n",
       "      <td>290000.0</td>\n",
       "      <td>93</td>\n",
       "      <td>0.529273</td>\n",
       "    </tr>\n",
       "    <tr>\n",
       "      <th>298280</th>\n",
       "      <td>2000-05</td>\n",
       "      <td>HOUGANG</td>\n",
       "      <td>5 ROOM</td>\n",
       "      <td>249</td>\n",
       "      <td>HOUGANG AVE 3</td>\n",
       "      <td>01 TO 03</td>\n",
       "      <td>121.0</td>\n",
       "      <td>Improved</td>\n",
       "      <td>1985</td>\n",
       "      <td>343800.0</td>\n",
       "      <td>84</td>\n",
       "      <td>0.761206</td>\n",
       "    </tr>\n",
       "  </tbody>\n",
       "</table>\n",
       "</div>"
      ],
      "text/plain": [
       "          month         town  flat_type block          street_name  \\\n",
       "350899  2001-10  BUKIT BATOK     4 ROOM  291B       BT BATOK ST 24   \n",
       "12692   1991-01   ANG MO KIO     4 ROOM   473    ANG MO KIO AVE 10   \n",
       "302195  2000-06    PASIR RIS     5 ROOM   736      PASIR RIS DR 10   \n",
       "314535  2000-10    PASIR RIS     4 ROOM   639       PASIR RIS DR 1   \n",
       "755357  2017-06    SEMBAWANG  EXECUTIVE  503A        CANBERRA LINK   \n",
       "539133  2008-01  BUKIT BATOK     4 ROOM   383  BT BATOK WEST AVE 5   \n",
       "673294  2012-10    TOA PAYOH     3 ROOM   126      LOR 1 TOA PAYOH   \n",
       "642527  2011-06     SENGKANG     4 ROOM   230     COMPASSVALE WALK   \n",
       "464126  2005-04     SENGKANG     5 ROOM  226B     COMPASSVALE WALK   \n",
       "298280  2000-05      HOUGANG     5 ROOM   249        HOUGANG AVE 3   \n",
       "\n",
       "       storey_range  floor_area_sqm      flat_model  lease_commence_date  \\\n",
       "350899     07 TO 09           103.0         Model A                 1998   \n",
       "12692      10 TO 12            91.0  NEW GENERATION                 1984   \n",
       "302195     01 TO 03           126.0        Improved                 1996   \n",
       "314535     10 TO 12           104.0         Model A                 1995   \n",
       "755357     07 TO 09           130.0       Apartment                 2001   \n",
       "539133     22 TO 24            92.0         Model A                 2005   \n",
       "673294     16 TO 18            67.0        Improved                 1970   \n",
       "642527     13 TO 15           101.0         Model A                 1999   \n",
       "464126     16 TO 18           115.0        Improved                 1999   \n",
       "298280     01 TO 03           121.0        Improved                 1985   \n",
       "\n",
       "        resale_price  remaining_lease  avgdist_nearestMRT  \n",
       "350899      256000.0               96            0.973644  \n",
       "12692        70000.0               92            0.863806  \n",
       "302195      360000.0               95            1.470040  \n",
       "314535      286000.0               94            0.857870  \n",
       "755357      488000.0               83            0.323211  \n",
       "539133      368000.0               96            0.601363  \n",
       "673294      354000.0               57            0.319760  \n",
       "642527      440000.0               87            0.529273  \n",
       "464126      290000.0               93            0.529273  \n",
       "298280      343800.0               84            0.761206  "
      ]
     },
     "execution_count": 73,
     "metadata": {},
     "output_type": "execute_result"
    }
   ],
   "source": [
    "#add dist_nearestMRT to the \n",
    "result = pd.merge(df, distfrommrt, on='street_name', how='left')\n",
    "df = result\n",
    "df.sample(n=10, replace=False)"
   ]
  },
  {
   "cell_type": "code",
   "execution_count": 74,
   "metadata": {},
   "outputs": [
    {
     "data": {
      "text/plain": [
       "month                     0\n",
       "town                      0\n",
       "flat_type                 0\n",
       "block                     0\n",
       "street_name               0\n",
       "storey_range              0\n",
       "floor_area_sqm            0\n",
       "flat_model                0\n",
       "lease_commence_date       0\n",
       "resale_price              0\n",
       "remaining_lease           0\n",
       "avgdist_nearestMRT     4314\n",
       "dtype: int64"
      ]
     },
     "execution_count": 74,
     "metadata": {},
     "output_type": "execute_result"
    }
   ],
   "source": [
    "df.isnull().sum()"
   ]
  },
  {
   "cell_type": "code",
   "execution_count": 75,
   "metadata": {},
   "outputs": [
    {
     "data": {
      "text/plain": [
       "array(['ANCHORVALE CRES', 'ANCHORVALE ST', 'ANG MO KIO ST 61',\n",
       "       'BEDOK RESERVOIR CRES', 'BUANGKOK GREEN', 'CHOA CHU KANG AVE 7',\n",
       "       'DAWSON RD', 'FERNVALE ST', 'HOUGANG ST 32', 'JURONG WEST CTRL 3',\n",
       "       'KEAT HONG CL', 'LOR 1A TOA PAYOH', 'MONTREAL LINK', 'NILE RD',\n",
       "       'PUNGGOL WALK', 'PUNGGOL WAY', 'SENGKANG EAST AVE',\n",
       "       'SENGKANG WEST WAY', 'SUMANG LINK', 'SUMANG WALK',\n",
       "       'TAMPINES AVE 1', 'TAMPINES CTRL 8', 'TAMPINES ST 86',\n",
       "       'TECK WHYE CRES', 'UPP SERANGOON CRES', 'UPP SERANGOON VIEW',\n",
       "       'YISHUN AVE 1', 'YISHUN ST 31', 'YISHUN ST 51'], dtype=object)"
      ]
     },
     "execution_count": 75,
     "metadata": {},
     "output_type": "execute_result"
    }
   ],
   "source": [
    "#missing nearest MRT data for the following streets\n",
    "np.unique(df[df.isnull().any(axis=1)]['street_name'])"
   ]
  },
  {
   "cell_type": "code",
   "execution_count": 76,
   "metadata": {},
   "outputs": [
    {
     "data": {
      "text/plain": [
       "month                  0\n",
       "town                   0\n",
       "flat_type              0\n",
       "block                  0\n",
       "street_name            0\n",
       "storey_range           0\n",
       "floor_area_sqm         0\n",
       "flat_model             0\n",
       "lease_commence_date    0\n",
       "resale_price           0\n",
       "remaining_lease        0\n",
       "avgdist_nearestMRT     0\n",
       "dtype: int64"
      ]
     },
     "execution_count": 76,
     "metadata": {},
     "output_type": "execute_result"
    }
   ],
   "source": [
    "#drop rows with NA and drop duplicate rows as well\n",
    "df = df.dropna()\n",
    "df = df.drop_duplicates()\n",
    "df.isnull().sum()"
   ]
  },
  {
   "cell_type": "code",
   "execution_count": 77,
   "metadata": {},
   "outputs": [],
   "source": [
    "#dropping non-important variables\n",
    "df.drop('month',axis='columns', inplace=True)\n",
    "df.drop('town',axis='columns', inplace=True)\n",
    "df.drop('block',axis='columns', inplace=True)\n",
    "df.drop('street_name',axis='columns', inplace=True)\n",
    "df.drop('lease_commence_date',axis='columns', inplace=True)"
   ]
  },
  {
   "cell_type": "code",
   "execution_count": 78,
   "metadata": {},
   "outputs": [
    {
     "data": {
      "text/html": [
       "<div>\n",
       "<style scoped>\n",
       "    .dataframe tbody tr th:only-of-type {\n",
       "        vertical-align: middle;\n",
       "    }\n",
       "\n",
       "    .dataframe tbody tr th {\n",
       "        vertical-align: top;\n",
       "    }\n",
       "\n",
       "    .dataframe thead th {\n",
       "        text-align: right;\n",
       "    }\n",
       "</style>\n",
       "<table border=\"1\" class=\"dataframe\">\n",
       "  <thead>\n",
       "    <tr style=\"text-align: right;\">\n",
       "      <th></th>\n",
       "      <th>flat_type</th>\n",
       "      <th>storey_range</th>\n",
       "      <th>floor_area_sqm</th>\n",
       "      <th>flat_model</th>\n",
       "      <th>resale_price</th>\n",
       "      <th>remaining_lease</th>\n",
       "      <th>avgdist_nearestMRT</th>\n",
       "    </tr>\n",
       "  </thead>\n",
       "  <tbody>\n",
       "    <tr>\n",
       "      <th>0</th>\n",
       "      <td>1 ROOM</td>\n",
       "      <td>10 TO 12</td>\n",
       "      <td>31.0</td>\n",
       "      <td>IMPROVED</td>\n",
       "      <td>9000.0</td>\n",
       "      <td>86</td>\n",
       "      <td>0.942066</td>\n",
       "    </tr>\n",
       "    <tr>\n",
       "      <th>1</th>\n",
       "      <td>1 ROOM</td>\n",
       "      <td>04 TO 06</td>\n",
       "      <td>31.0</td>\n",
       "      <td>IMPROVED</td>\n",
       "      <td>6000.0</td>\n",
       "      <td>86</td>\n",
       "      <td>0.942066</td>\n",
       "    </tr>\n",
       "    <tr>\n",
       "      <th>2</th>\n",
       "      <td>1 ROOM</td>\n",
       "      <td>10 TO 12</td>\n",
       "      <td>31.0</td>\n",
       "      <td>IMPROVED</td>\n",
       "      <td>8000.0</td>\n",
       "      <td>86</td>\n",
       "      <td>0.942066</td>\n",
       "    </tr>\n",
       "    <tr>\n",
       "      <th>3</th>\n",
       "      <td>1 ROOM</td>\n",
       "      <td>07 TO 09</td>\n",
       "      <td>31.0</td>\n",
       "      <td>IMPROVED</td>\n",
       "      <td>6000.0</td>\n",
       "      <td>86</td>\n",
       "      <td>0.942066</td>\n",
       "    </tr>\n",
       "    <tr>\n",
       "      <th>4</th>\n",
       "      <td>3 ROOM</td>\n",
       "      <td>04 TO 06</td>\n",
       "      <td>73.0</td>\n",
       "      <td>NEW GENERATION</td>\n",
       "      <td>47200.0</td>\n",
       "      <td>85</td>\n",
       "      <td>0.942066</td>\n",
       "    </tr>\n",
       "    <tr>\n",
       "      <th>5</th>\n",
       "      <td>3 ROOM</td>\n",
       "      <td>01 TO 03</td>\n",
       "      <td>67.0</td>\n",
       "      <td>NEW GENERATION</td>\n",
       "      <td>46000.0</td>\n",
       "      <td>86</td>\n",
       "      <td>0.699315</td>\n",
       "    </tr>\n",
       "    <tr>\n",
       "      <th>6</th>\n",
       "      <td>3 ROOM</td>\n",
       "      <td>07 TO 09</td>\n",
       "      <td>67.0</td>\n",
       "      <td>NEW GENERATION</td>\n",
       "      <td>42000.0</td>\n",
       "      <td>86</td>\n",
       "      <td>0.699315</td>\n",
       "    </tr>\n",
       "    <tr>\n",
       "      <th>7</th>\n",
       "      <td>3 ROOM</td>\n",
       "      <td>10 TO 12</td>\n",
       "      <td>67.0</td>\n",
       "      <td>NEW GENERATION</td>\n",
       "      <td>38000.0</td>\n",
       "      <td>86</td>\n",
       "      <td>0.699315</td>\n",
       "    </tr>\n",
       "    <tr>\n",
       "      <th>8</th>\n",
       "      <td>3 ROOM</td>\n",
       "      <td>04 TO 06</td>\n",
       "      <td>67.0</td>\n",
       "      <td>NEW GENERATION</td>\n",
       "      <td>40000.0</td>\n",
       "      <td>86</td>\n",
       "      <td>0.699315</td>\n",
       "    </tr>\n",
       "    <tr>\n",
       "      <th>9</th>\n",
       "      <td>3 ROOM</td>\n",
       "      <td>01 TO 03</td>\n",
       "      <td>67.0</td>\n",
       "      <td>NEW GENERATION</td>\n",
       "      <td>47000.0</td>\n",
       "      <td>86</td>\n",
       "      <td>0.699315</td>\n",
       "    </tr>\n",
       "  </tbody>\n",
       "</table>\n",
       "</div>"
      ],
      "text/plain": [
       "  flat_type storey_range  floor_area_sqm      flat_model  resale_price  \\\n",
       "0    1 ROOM     10 TO 12            31.0        IMPROVED        9000.0   \n",
       "1    1 ROOM     04 TO 06            31.0        IMPROVED        6000.0   \n",
       "2    1 ROOM     10 TO 12            31.0        IMPROVED        8000.0   \n",
       "3    1 ROOM     07 TO 09            31.0        IMPROVED        6000.0   \n",
       "4    3 ROOM     04 TO 06            73.0  NEW GENERATION       47200.0   \n",
       "5    3 ROOM     01 TO 03            67.0  NEW GENERATION       46000.0   \n",
       "6    3 ROOM     07 TO 09            67.0  NEW GENERATION       42000.0   \n",
       "7    3 ROOM     10 TO 12            67.0  NEW GENERATION       38000.0   \n",
       "8    3 ROOM     04 TO 06            67.0  NEW GENERATION       40000.0   \n",
       "9    3 ROOM     01 TO 03            67.0  NEW GENERATION       47000.0   \n",
       "\n",
       "   remaining_lease  avgdist_nearestMRT  \n",
       "0               86            0.942066  \n",
       "1               86            0.942066  \n",
       "2               86            0.942066  \n",
       "3               86            0.942066  \n",
       "4               85            0.942066  \n",
       "5               86            0.699315  \n",
       "6               86            0.699315  \n",
       "7               86            0.699315  \n",
       "8               86            0.699315  \n",
       "9               86            0.699315  "
      ]
     },
     "execution_count": 78,
     "metadata": {},
     "output_type": "execute_result"
    }
   ],
   "source": [
    "df.head(10)"
   ]
  },
  {
   "cell_type": "code",
   "execution_count": 79,
   "metadata": {},
   "outputs": [
    {
     "data": {
      "text/plain": [
       "flat_type              object\n",
       "storey_range           object\n",
       "floor_area_sqm        float64\n",
       "flat_model             object\n",
       "resale_price          float64\n",
       "remaining_lease         int64\n",
       "avgdist_nearestMRT    float64\n",
       "dtype: object"
      ]
     },
     "execution_count": 79,
     "metadata": {},
     "output_type": "execute_result"
    }
   ],
   "source": [
    "df.dtypes"
   ]
  },
  {
   "cell_type": "markdown",
   "metadata": {},
   "source": [
    "## Exploratory Data Analysis"
   ]
  },
  {
   "cell_type": "code",
   "execution_count": 80,
   "metadata": {},
   "outputs": [
    {
     "data": {
      "text/plain": [
       "array(['1 ROOM', '2 ROOM', '3 ROOM', '4 ROOM', '5 ROOM', 'EXECUTIVE',\n",
       "       'MULTI GENERATION', 'MULTI-GENERATION'], dtype=object)"
      ]
     },
     "execution_count": 80,
     "metadata": {},
     "output_type": "execute_result"
    }
   ],
   "source": [
    "np.unique(df['flat_type'])"
   ]
  },
  {
   "cell_type": "code",
   "execution_count": 81,
   "metadata": {},
   "outputs": [
    {
     "data": {
      "text/plain": [
       "array(['1 ROOM', '2 ROOM', '3 ROOM', '4 ROOM', '5 ROOM', 'EXECUTIVE',\n",
       "       'MULTI-GENERATION'], dtype=object)"
      ]
     },
     "execution_count": 81,
     "metadata": {},
     "output_type": "execute_result"
    }
   ],
   "source": [
    "df.loc[df['flat_type']=='MULTI GENERATION','flat_type'] = \"MULTI-GENERATION\"\n",
    "np.unique(df['flat_type'])"
   ]
  },
  {
   "cell_type": "code",
   "execution_count": 82,
   "metadata": {},
   "outputs": [
    {
     "data": {
      "text/plain": [
       "flat_type              object\n",
       "storey_range           object\n",
       "floor_area_sqm        float64\n",
       "flat_model             object\n",
       "resale_price          float64\n",
       "remaining_lease         int64\n",
       "avgdist_nearestMRT    float64\n",
       "dtype: object"
      ]
     },
     "execution_count": 82,
     "metadata": {},
     "output_type": "execute_result"
    }
   ],
   "source": [
    "df.dtypes"
   ]
  },
  {
   "cell_type": "code",
   "execution_count": 83,
   "metadata": {},
   "outputs": [
    {
     "data": {
      "text/html": [
       "<div>\n",
       "<style scoped>\n",
       "    .dataframe tbody tr th:only-of-type {\n",
       "        vertical-align: middle;\n",
       "    }\n",
       "\n",
       "    .dataframe tbody tr th {\n",
       "        vertical-align: top;\n",
       "    }\n",
       "\n",
       "    .dataframe thead th {\n",
       "        text-align: right;\n",
       "    }\n",
       "</style>\n",
       "<table border=\"1\" class=\"dataframe\">\n",
       "  <thead>\n",
       "    <tr style=\"text-align: right;\">\n",
       "      <th></th>\n",
       "      <th>flat_type</th>\n",
       "      <th>storey_range</th>\n",
       "      <th>floor_area_sqm</th>\n",
       "      <th>flat_model</th>\n",
       "      <th>resale_price</th>\n",
       "      <th>remaining_lease</th>\n",
       "      <th>avgdist_nearestMRT</th>\n",
       "      <th>flattype_label</th>\n",
       "    </tr>\n",
       "  </thead>\n",
       "  <tbody>\n",
       "    <tr>\n",
       "      <th>838467</th>\n",
       "      <td>5 ROOM</td>\n",
       "      <td>07 TO 09</td>\n",
       "      <td>122.0</td>\n",
       "      <td>Improved</td>\n",
       "      <td>467000.0</td>\n",
       "      <td>64</td>\n",
       "      <td>0.698876</td>\n",
       "      <td>5</td>\n",
       "    </tr>\n",
       "    <tr>\n",
       "      <th>838468</th>\n",
       "      <td>5 ROOM</td>\n",
       "      <td>10 TO 12</td>\n",
       "      <td>122.0</td>\n",
       "      <td>Improved</td>\n",
       "      <td>508000.0</td>\n",
       "      <td>64</td>\n",
       "      <td>0.332289</td>\n",
       "      <td>5</td>\n",
       "    </tr>\n",
       "    <tr>\n",
       "      <th>838469</th>\n",
       "      <td>5 ROOM</td>\n",
       "      <td>01 TO 03</td>\n",
       "      <td>122.0</td>\n",
       "      <td>Improved</td>\n",
       "      <td>450000.0</td>\n",
       "      <td>66</td>\n",
       "      <td>0.417792</td>\n",
       "      <td>5</td>\n",
       "    </tr>\n",
       "    <tr>\n",
       "      <th>838470</th>\n",
       "      <td>5 ROOM</td>\n",
       "      <td>01 TO 03</td>\n",
       "      <td>122.0</td>\n",
       "      <td>Improved</td>\n",
       "      <td>502000.0</td>\n",
       "      <td>66</td>\n",
       "      <td>0.417792</td>\n",
       "      <td>5</td>\n",
       "    </tr>\n",
       "    <tr>\n",
       "      <th>838471</th>\n",
       "      <td>EXECUTIVE</td>\n",
       "      <td>04 TO 06</td>\n",
       "      <td>146.0</td>\n",
       "      <td>Maisonette</td>\n",
       "      <td>600000.0</td>\n",
       "      <td>66</td>\n",
       "      <td>1.300745</td>\n",
       "      <td>6</td>\n",
       "    </tr>\n",
       "    <tr>\n",
       "      <th>838472</th>\n",
       "      <td>EXECUTIVE</td>\n",
       "      <td>10 TO 12</td>\n",
       "      <td>148.0</td>\n",
       "      <td>Maisonette</td>\n",
       "      <td>655000.0</td>\n",
       "      <td>66</td>\n",
       "      <td>1.434293</td>\n",
       "      <td>6</td>\n",
       "    </tr>\n",
       "    <tr>\n",
       "      <th>838473</th>\n",
       "      <td>EXECUTIVE</td>\n",
       "      <td>10 TO 12</td>\n",
       "      <td>146.0</td>\n",
       "      <td>Maisonette</td>\n",
       "      <td>650000.0</td>\n",
       "      <td>66</td>\n",
       "      <td>0.749525</td>\n",
       "      <td>6</td>\n",
       "    </tr>\n",
       "    <tr>\n",
       "      <th>838474</th>\n",
       "      <td>EXECUTIVE</td>\n",
       "      <td>01 TO 03</td>\n",
       "      <td>146.0</td>\n",
       "      <td>Maisonette</td>\n",
       "      <td>607000.0</td>\n",
       "      <td>66</td>\n",
       "      <td>0.749525</td>\n",
       "      <td>6</td>\n",
       "    </tr>\n",
       "    <tr>\n",
       "      <th>838475</th>\n",
       "      <td>EXECUTIVE</td>\n",
       "      <td>01 TO 03</td>\n",
       "      <td>142.0</td>\n",
       "      <td>Apartment</td>\n",
       "      <td>670000.0</td>\n",
       "      <td>66</td>\n",
       "      <td>0.417792</td>\n",
       "      <td>6</td>\n",
       "    </tr>\n",
       "    <tr>\n",
       "      <th>838476</th>\n",
       "      <td>EXECUTIVE</td>\n",
       "      <td>07 TO 09</td>\n",
       "      <td>145.0</td>\n",
       "      <td>Maisonette</td>\n",
       "      <td>660000.0</td>\n",
       "      <td>65</td>\n",
       "      <td>0.417792</td>\n",
       "      <td>6</td>\n",
       "    </tr>\n",
       "  </tbody>\n",
       "</table>\n",
       "</div>"
      ],
      "text/plain": [
       "        flat_type storey_range  floor_area_sqm  flat_model  resale_price  \\\n",
       "838467     5 ROOM     07 TO 09           122.0    Improved      467000.0   \n",
       "838468     5 ROOM     10 TO 12           122.0    Improved      508000.0   \n",
       "838469     5 ROOM     01 TO 03           122.0    Improved      450000.0   \n",
       "838470     5 ROOM     01 TO 03           122.0    Improved      502000.0   \n",
       "838471  EXECUTIVE     04 TO 06           146.0  Maisonette      600000.0   \n",
       "838472  EXECUTIVE     10 TO 12           148.0  Maisonette      655000.0   \n",
       "838473  EXECUTIVE     10 TO 12           146.0  Maisonette      650000.0   \n",
       "838474  EXECUTIVE     01 TO 03           146.0  Maisonette      607000.0   \n",
       "838475  EXECUTIVE     01 TO 03           142.0   Apartment      670000.0   \n",
       "838476  EXECUTIVE     07 TO 09           145.0  Maisonette      660000.0   \n",
       "\n",
       "        remaining_lease  avgdist_nearestMRT  flattype_label  \n",
       "838467               64            0.698876               5  \n",
       "838468               64            0.332289               5  \n",
       "838469               66            0.417792               5  \n",
       "838470               66            0.417792               5  \n",
       "838471               66            1.300745               6  \n",
       "838472               66            1.434293               6  \n",
       "838473               66            0.749525               6  \n",
       "838474               66            0.749525               6  \n",
       "838475               66            0.417792               6  \n",
       "838476               65            0.417792               6  "
      ]
     },
     "execution_count": 83,
     "metadata": {},
     "output_type": "execute_result"
    }
   ],
   "source": [
    "flattype_map = {'1 ROOM': 1, '2 ROOM': 2, '3 ROOM': 3, \n",
    "               '4 ROOM': 4, '5 ROOM': 5, 'EXECUTIVE': 6, \n",
    "                'MULTI-GENERATION' : 7}\n",
    "df['flattype_label'] = df['flat_type'].map(flattype_map)\n",
    "df.tail(10)"
   ]
  },
  {
   "cell_type": "code",
   "execution_count": 84,
   "metadata": {},
   "outputs": [
    {
     "data": {
      "text/plain": [
       "<seaborn.axisgrid.FacetGrid at 0x119f34cd0>"
      ]
     },
     "execution_count": 84,
     "metadata": {},
     "output_type": "execute_result"
    },
    {
     "data": {
      "image/png": "[encoded data removed]",
      "text/plain": [
       "<Figure size 360x360 with 1 Axes>"
      ]
     },
     "metadata": {
      "needs_background": "light"
     },
     "output_type": "display_data"
    }
   ],
   "source": [
    "sns.catplot(x='flattype_label', y='resale_price', data=df)"
   ]
  },
  {
   "cell_type": "code",
   "execution_count": 85,
   "metadata": {},
   "outputs": [
    {
     "data": {
      "text/plain": [
       "array(['01 TO 03', '01 TO 05', '04 TO 06', '06 TO 10', '07 TO 09',\n",
       "       '10 TO 12', '11 TO 15', '13 TO 15', '16 TO 18', '16 TO 20',\n",
       "       '19 TO 21', '21 TO 25', '22 TO 24', '25 TO 27', '26 TO 30',\n",
       "       '28 TO 30', '31 TO 33', '31 TO 35', '34 TO 36', '36 TO 40',\n",
       "       '37 TO 39', '40 TO 42', '43 TO 45', '46 TO 48', '49 TO 51'],\n",
       "      dtype=object)"
      ]
     },
     "execution_count": 85,
     "metadata": {},
     "output_type": "execute_result"
    }
   ],
   "source": [
    "np.unique(df['storey_range'])"
   ]
  },
  {
   "cell_type": "markdown",
   "metadata": {},
   "source": [
    "The storey ranges overlap... therefore I just calculated the midpoint storey from each range."
   ]
  },
  {
   "cell_type": "code",
   "execution_count": 106,
   "metadata": {},
   "outputs": [
    {
     "data": {
      "text/plain": [
       "array(['10 TO 12', '04 TO 06', '07 TO 09', '01 TO 03', '13 TO 15',\n",
       "       '19 TO 21', '16 TO 18', '25 TO 27', '22 TO 24', '28 TO 30',\n",
       "       '31 TO 33', '40 TO 42', '37 TO 39', '34 TO 36', '06 TO 10',\n",
       "       '01 TO 05', '11 TO 15', '16 TO 20', '21 TO 25', '26 TO 30',\n",
       "       '36 TO 40', '31 TO 35', '46 TO 48', '43 TO 45', '49 TO 51'],\n",
       "      dtype=object)"
      ]
     },
     "execution_count": 106,
     "metadata": {},
     "output_type": "execute_result"
    }
   ],
   "source": [
    "def midpoint(column):\n",
    "    midpoint_values = []\n",
    "    for i in range(len(column)):\n",
    "        left = int(column[i][0:2])\n",
    "        right = int(column[i][-2:])\n",
    "        midpoint_values.append((left+right)/2)\n",
    "    return midpoint_values\n",
    "        \n",
    "midpoint(df['storey_range'].unique())\n",
    "df['storey_range'].unique()"
   ]
  },
  {
   "cell_type": "code",
   "execution_count": 109,
   "metadata": {},
   "outputs": [
    {
     "data": {
      "text/plain": [
       "{'10 TO 12': 11.0,\n",
       " '04 TO 06': 5.0,\n",
       " '07 TO 09': 8.0,\n",
       " '01 TO 03': 2.0,\n",
       " '13 TO 15': 14.0,\n",
       " '19 TO 21': 20.0,\n",
       " '16 TO 18': 17.0,\n",
       " '25 TO 27': 26.0,\n",
       " '22 TO 24': 23.0,\n",
       " '28 TO 30': 29.0,\n",
       " '31 TO 33': 32.0,\n",
       " '40 TO 42': 41.0,\n",
       " '37 TO 39': 38.0,\n",
       " '34 TO 36': 35.0,\n",
       " '06 TO 10': 8.0,\n",
       " '01 TO 05': 3.0,\n",
       " '11 TO 15': 13.0,\n",
       " '16 TO 20': 18.0,\n",
       " '21 TO 25': 23.0,\n",
       " '26 TO 30': 28.0,\n",
       " '36 TO 40': 38.0,\n",
       " '31 TO 35': 33.0,\n",
       " '46 TO 48': 47.0,\n",
       " '43 TO 45': 44.0,\n",
       " '49 TO 51': 50.0}"
      ]
     },
     "execution_count": 109,
     "metadata": {},
     "output_type": "execute_result"
    }
   ],
   "source": [
    "res = dict(zip(df['storey_range'].unique(), midpoint(df['storey_range'].unique())))\n",
    "res "
   ]
  },
  {
   "cell_type": "code",
   "execution_count": 110,
   "metadata": {},
   "outputs": [
    {
     "data": {
      "text/html": [
       "<div>\n",
       "<style scoped>\n",
       "    .dataframe tbody tr th:only-of-type {\n",
       "        vertical-align: middle;\n",
       "    }\n",
       "\n",
       "    .dataframe tbody tr th {\n",
       "        vertical-align: top;\n",
       "    }\n",
       "\n",
       "    .dataframe thead th {\n",
       "        text-align: right;\n",
       "    }\n",
       "</style>\n",
       "<table border=\"1\" class=\"dataframe\">\n",
       "  <thead>\n",
       "    <tr style=\"text-align: right;\">\n",
       "      <th></th>\n",
       "      <th>flat_type</th>\n",
       "      <th>storey_range</th>\n",
       "      <th>floor_area_sqm</th>\n",
       "      <th>flat_model</th>\n",
       "      <th>resale_price</th>\n",
       "      <th>remaining_lease</th>\n",
       "      <th>avgdist_nearestMRT</th>\n",
       "      <th>flattype_label</th>\n",
       "      <th>storeyrange_label</th>\n",
       "    </tr>\n",
       "  </thead>\n",
       "  <tbody>\n",
       "    <tr>\n",
       "      <th>838467</th>\n",
       "      <td>5 ROOM</td>\n",
       "      <td>07 TO 09</td>\n",
       "      <td>122.0</td>\n",
       "      <td>Improved</td>\n",
       "      <td>467000.0</td>\n",
       "      <td>64</td>\n",
       "      <td>0.698876</td>\n",
       "      <td>5</td>\n",
       "      <td>8.0</td>\n",
       "    </tr>\n",
       "    <tr>\n",
       "      <th>838468</th>\n",
       "      <td>5 ROOM</td>\n",
       "      <td>10 TO 12</td>\n",
       "      <td>122.0</td>\n",
       "      <td>Improved</td>\n",
       "      <td>508000.0</td>\n",
       "      <td>64</td>\n",
       "      <td>0.332289</td>\n",
       "      <td>5</td>\n",
       "      <td>11.0</td>\n",
       "    </tr>\n",
       "    <tr>\n",
       "      <th>838469</th>\n",
       "      <td>5 ROOM</td>\n",
       "      <td>01 TO 03</td>\n",
       "      <td>122.0</td>\n",
       "      <td>Improved</td>\n",
       "      <td>450000.0</td>\n",
       "      <td>66</td>\n",
       "      <td>0.417792</td>\n",
       "      <td>5</td>\n",
       "      <td>2.0</td>\n",
       "    </tr>\n",
       "    <tr>\n",
       "      <th>838470</th>\n",
       "      <td>5 ROOM</td>\n",
       "      <td>01 TO 03</td>\n",
       "      <td>122.0</td>\n",
       "      <td>Improved</td>\n",
       "      <td>502000.0</td>\n",
       "      <td>66</td>\n",
       "      <td>0.417792</td>\n",
       "      <td>5</td>\n",
       "      <td>2.0</td>\n",
       "    </tr>\n",
       "    <tr>\n",
       "      <th>838471</th>\n",
       "      <td>EXECUTIVE</td>\n",
       "      <td>04 TO 06</td>\n",
       "      <td>146.0</td>\n",
       "      <td>Maisonette</td>\n",
       "      <td>600000.0</td>\n",
       "      <td>66</td>\n",
       "      <td>1.300745</td>\n",
       "      <td>6</td>\n",
       "      <td>5.0</td>\n",
       "    </tr>\n",
       "    <tr>\n",
       "      <th>838472</th>\n",
       "      <td>EXECUTIVE</td>\n",
       "      <td>10 TO 12</td>\n",
       "      <td>148.0</td>\n",
       "      <td>Maisonette</td>\n",
       "      <td>655000.0</td>\n",
       "      <td>66</td>\n",
       "      <td>1.434293</td>\n",
       "      <td>6</td>\n",
       "      <td>11.0</td>\n",
       "    </tr>\n",
       "    <tr>\n",
       "      <th>838473</th>\n",
       "      <td>EXECUTIVE</td>\n",
       "      <td>10 TO 12</td>\n",
       "      <td>146.0</td>\n",
       "      <td>Maisonette</td>\n",
       "      <td>650000.0</td>\n",
       "      <td>66</td>\n",
       "      <td>0.749525</td>\n",
       "      <td>6</td>\n",
       "      <td>11.0</td>\n",
       "    </tr>\n",
       "    <tr>\n",
       "      <th>838474</th>\n",
       "      <td>EXECUTIVE</td>\n",
       "      <td>01 TO 03</td>\n",
       "      <td>146.0</td>\n",
       "      <td>Maisonette</td>\n",
       "      <td>607000.0</td>\n",
       "      <td>66</td>\n",
       "      <td>0.749525</td>\n",
       "      <td>6</td>\n",
       "      <td>2.0</td>\n",
       "    </tr>\n",
       "    <tr>\n",
       "      <th>838475</th>\n",
       "      <td>EXECUTIVE</td>\n",
       "      <td>01 TO 03</td>\n",
       "      <td>142.0</td>\n",
       "      <td>Apartment</td>\n",
       "      <td>670000.0</td>\n",
       "      <td>66</td>\n",
       "      <td>0.417792</td>\n",
       "      <td>6</td>\n",
       "      <td>2.0</td>\n",
       "    </tr>\n",
       "    <tr>\n",
       "      <th>838476</th>\n",
       "      <td>EXECUTIVE</td>\n",
       "      <td>07 TO 09</td>\n",
       "      <td>145.0</td>\n",
       "      <td>Maisonette</td>\n",
       "      <td>660000.0</td>\n",
       "      <td>65</td>\n",
       "      <td>0.417792</td>\n",
       "      <td>6</td>\n",
       "      <td>8.0</td>\n",
       "    </tr>\n",
       "  </tbody>\n",
       "</table>\n",
       "</div>"
      ],
      "text/plain": [
       "        flat_type storey_range  floor_area_sqm  flat_model  resale_price  \\\n",
       "838467     5 ROOM     07 TO 09           122.0    Improved      467000.0   \n",
       "838468     5 ROOM     10 TO 12           122.0    Improved      508000.0   \n",
       "838469     5 ROOM     01 TO 03           122.0    Improved      450000.0   \n",
       "838470     5 ROOM     01 TO 03           122.0    Improved      502000.0   \n",
       "838471  EXECUTIVE     04 TO 06           146.0  Maisonette      600000.0   \n",
       "838472  EXECUTIVE     10 TO 12           148.0  Maisonette      655000.0   \n",
       "838473  EXECUTIVE     10 TO 12           146.0  Maisonette      650000.0   \n",
       "838474  EXECUTIVE     01 TO 03           146.0  Maisonette      607000.0   \n",
       "838475  EXECUTIVE     01 TO 03           142.0   Apartment      670000.0   \n",
       "838476  EXECUTIVE     07 TO 09           145.0  Maisonette      660000.0   \n",
       "\n",
       "        remaining_lease  avgdist_nearestMRT  flattype_label  storeyrange_label  \n",
       "838467               64            0.698876               5                8.0  \n",
       "838468               64            0.332289               5               11.0  \n",
       "838469               66            0.417792               5                2.0  \n",
       "838470               66            0.417792               5                2.0  \n",
       "838471               66            1.300745               6                5.0  \n",
       "838472               66            1.434293               6               11.0  \n",
       "838473               66            0.749525               6               11.0  \n",
       "838474               66            0.749525               6                2.0  \n",
       "838475               66            0.417792               6                2.0  \n",
       "838476               65            0.417792               6                8.0  "
      ]
     },
     "execution_count": 110,
     "metadata": {},
     "output_type": "execute_result"
    }
   ],
   "source": [
    "storey_map = res\n",
    "df['storeyrange_label'] = df['storey_range'].map(storey_map)\n",
    "df.tail(10)"
   ]
  },
  {
   "cell_type": "code",
   "execution_count": 111,
   "metadata": {},
   "outputs": [
    {
     "data": {
      "text/plain": [
       "<seaborn.axisgrid.FacetGrid at 0x11e122a00>"
      ]
     },
     "execution_count": 111,
     "metadata": {},
     "output_type": "execute_result"
    },
    {
     "data": {
      "image/png": "[encoded data removed]",
      "text/plain": [
       "<Figure size 360x360 with 1 Axes>"
      ]
     },
     "metadata": {
      "needs_background": "light"
     },
     "output_type": "display_data"
    }
   ],
   "source": [
    "sns.catplot(x='storeyrange_label', y='resale_price', data=df)"
   ]
  },
  {
   "cell_type": "markdown",
   "metadata": {},
   "source": [
    "The names are repeated, so cleaning involved replacing the names. Could have done this better if I just put all the characters to lowercase though."
   ]
  },
  {
   "cell_type": "code",
   "execution_count": 120,
   "metadata": {},
   "outputs": [
    {
     "data": {
      "text/plain": [
       "array(['improved', 'new generation', 'model a', 'standard', 'simplified',\n",
       "       'model a-maisonette', 'apartment', 'maisonette', 'terrace',\n",
       "       '2-room', 'improved-maisonette', 'multi generation',\n",
       "       'premium apartment', 'adjoined flat', 'premium maisonette',\n",
       "       'model a2', 'dbss', 'type s1', 'type s2', 'premium apartment loft'],\n",
       "      dtype=object)"
      ]
     },
     "execution_count": 120,
     "metadata": {},
     "output_type": "execute_result"
    }
   ],
   "source": [
    "df['flat_model'] = df['flat_model'].str.lower()\n",
    "df['flat_model'].unique()"
   ]
  },
  {
   "cell_type": "code",
   "execution_count": 121,
   "metadata": {},
   "outputs": [
    {
     "data": {
      "text/html": [
       "<div>\n",
       "<style scoped>\n",
       "    .dataframe tbody tr th:only-of-type {\n",
       "        vertical-align: middle;\n",
       "    }\n",
       "\n",
       "    .dataframe tbody tr th {\n",
       "        vertical-align: top;\n",
       "    }\n",
       "\n",
       "    .dataframe thead th {\n",
       "        text-align: right;\n",
       "    }\n",
       "</style>\n",
       "<table border=\"1\" class=\"dataframe\">\n",
       "  <thead>\n",
       "    <tr style=\"text-align: right;\">\n",
       "      <th></th>\n",
       "      <th>flat_type</th>\n",
       "      <th>storey_range</th>\n",
       "      <th>floor_area_sqm</th>\n",
       "      <th>flat_model</th>\n",
       "      <th>resale_price</th>\n",
       "      <th>remaining_lease</th>\n",
       "      <th>avgdist_nearestMRT</th>\n",
       "      <th>flattype_label</th>\n",
       "      <th>storeyrange_label</th>\n",
       "      <th>flat_model_l</th>\n",
       "    </tr>\n",
       "  </thead>\n",
       "  <tbody>\n",
       "    <tr>\n",
       "      <th>0</th>\n",
       "      <td>1 ROOM</td>\n",
       "      <td>10 TO 12</td>\n",
       "      <td>31.0</td>\n",
       "      <td>improved</td>\n",
       "      <td>9000.0</td>\n",
       "      <td>86</td>\n",
       "      <td>0.942066</td>\n",
       "      <td>1</td>\n",
       "      <td>11.0</td>\n",
       "      <td>improved</td>\n",
       "    </tr>\n",
       "    <tr>\n",
       "      <th>1</th>\n",
       "      <td>1 ROOM</td>\n",
       "      <td>04 TO 06</td>\n",
       "      <td>31.0</td>\n",
       "      <td>improved</td>\n",
       "      <td>6000.0</td>\n",
       "      <td>86</td>\n",
       "      <td>0.942066</td>\n",
       "      <td>1</td>\n",
       "      <td>5.0</td>\n",
       "      <td>improved</td>\n",
       "    </tr>\n",
       "    <tr>\n",
       "      <th>2</th>\n",
       "      <td>1 ROOM</td>\n",
       "      <td>10 TO 12</td>\n",
       "      <td>31.0</td>\n",
       "      <td>improved</td>\n",
       "      <td>8000.0</td>\n",
       "      <td>86</td>\n",
       "      <td>0.942066</td>\n",
       "      <td>1</td>\n",
       "      <td>11.0</td>\n",
       "      <td>improved</td>\n",
       "    </tr>\n",
       "    <tr>\n",
       "      <th>3</th>\n",
       "      <td>1 ROOM</td>\n",
       "      <td>07 TO 09</td>\n",
       "      <td>31.0</td>\n",
       "      <td>improved</td>\n",
       "      <td>6000.0</td>\n",
       "      <td>86</td>\n",
       "      <td>0.942066</td>\n",
       "      <td>1</td>\n",
       "      <td>8.0</td>\n",
       "      <td>improved</td>\n",
       "    </tr>\n",
       "    <tr>\n",
       "      <th>4</th>\n",
       "      <td>3 ROOM</td>\n",
       "      <td>04 TO 06</td>\n",
       "      <td>73.0</td>\n",
       "      <td>new generation</td>\n",
       "      <td>47200.0</td>\n",
       "      <td>85</td>\n",
       "      <td>0.942066</td>\n",
       "      <td>3</td>\n",
       "      <td>5.0</td>\n",
       "      <td>new generation</td>\n",
       "    </tr>\n",
       "  </tbody>\n",
       "</table>\n",
       "</div>"
      ],
      "text/plain": [
       "  flat_type storey_range  floor_area_sqm      flat_model  resale_price  \\\n",
       "0    1 ROOM     10 TO 12            31.0        improved        9000.0   \n",
       "1    1 ROOM     04 TO 06            31.0        improved        6000.0   \n",
       "2    1 ROOM     10 TO 12            31.0        improved        8000.0   \n",
       "3    1 ROOM     07 TO 09            31.0        improved        6000.0   \n",
       "4    3 ROOM     04 TO 06            73.0  new generation       47200.0   \n",
       "\n",
       "   remaining_lease  avgdist_nearestMRT  flattype_label  storeyrange_label  \\\n",
       "0               86            0.942066               1               11.0   \n",
       "1               86            0.942066               1                5.0   \n",
       "2               86            0.942066               1               11.0   \n",
       "3               86            0.942066               1                8.0   \n",
       "4               85            0.942066               3                5.0   \n",
       "\n",
       "     flat_model_l  \n",
       "0        improved  \n",
       "1        improved  \n",
       "2        improved  \n",
       "3        improved  \n",
       "4  new generation  "
      ]
     },
     "execution_count": 121,
     "metadata": {},
     "output_type": "execute_result"
    }
   ],
   "source": [
    "df.head(5)"
   ]
  },
  {
   "cell_type": "code",
   "execution_count": 122,
   "metadata": {},
   "outputs": [
    {
     "data": {
      "text/html": [
       "<div>\n",
       "<style scoped>\n",
       "    .dataframe tbody tr th:only-of-type {\n",
       "        vertical-align: middle;\n",
       "    }\n",
       "\n",
       "    .dataframe tbody tr th {\n",
       "        vertical-align: top;\n",
       "    }\n",
       "\n",
       "    .dataframe thead th {\n",
       "        text-align: right;\n",
       "    }\n",
       "</style>\n",
       "<table border=\"1\" class=\"dataframe\">\n",
       "  <thead>\n",
       "    <tr style=\"text-align: right;\">\n",
       "      <th></th>\n",
       "      <th>flat_type</th>\n",
       "      <th>storey_range</th>\n",
       "      <th>floor_area_sqm</th>\n",
       "      <th>flat_model</th>\n",
       "      <th>resale_price</th>\n",
       "      <th>remaining_lease</th>\n",
       "      <th>avgdist_nearestMRT</th>\n",
       "      <th>flattype_label</th>\n",
       "      <th>storeyrange_label</th>\n",
       "      <th>flat_model_l</th>\n",
       "      <th>flatmodel_label</th>\n",
       "    </tr>\n",
       "  </thead>\n",
       "  <tbody>\n",
       "    <tr>\n",
       "      <th>838467</th>\n",
       "      <td>5 ROOM</td>\n",
       "      <td>07 TO 09</td>\n",
       "      <td>122.0</td>\n",
       "      <td>improved</td>\n",
       "      <td>467000.0</td>\n",
       "      <td>64</td>\n",
       "      <td>0.698876</td>\n",
       "      <td>5</td>\n",
       "      <td>8.0</td>\n",
       "      <td>improved</td>\n",
       "      <td>4</td>\n",
       "    </tr>\n",
       "    <tr>\n",
       "      <th>838468</th>\n",
       "      <td>5 ROOM</td>\n",
       "      <td>10 TO 12</td>\n",
       "      <td>122.0</td>\n",
       "      <td>improved</td>\n",
       "      <td>508000.0</td>\n",
       "      <td>64</td>\n",
       "      <td>0.332289</td>\n",
       "      <td>5</td>\n",
       "      <td>11.0</td>\n",
       "      <td>improved</td>\n",
       "      <td>4</td>\n",
       "    </tr>\n",
       "    <tr>\n",
       "      <th>838469</th>\n",
       "      <td>5 ROOM</td>\n",
       "      <td>01 TO 03</td>\n",
       "      <td>122.0</td>\n",
       "      <td>improved</td>\n",
       "      <td>450000.0</td>\n",
       "      <td>66</td>\n",
       "      <td>0.417792</td>\n",
       "      <td>5</td>\n",
       "      <td>2.0</td>\n",
       "      <td>improved</td>\n",
       "      <td>4</td>\n",
       "    </tr>\n",
       "    <tr>\n",
       "      <th>838470</th>\n",
       "      <td>5 ROOM</td>\n",
       "      <td>01 TO 03</td>\n",
       "      <td>122.0</td>\n",
       "      <td>improved</td>\n",
       "      <td>502000.0</td>\n",
       "      <td>66</td>\n",
       "      <td>0.417792</td>\n",
       "      <td>5</td>\n",
       "      <td>2.0</td>\n",
       "      <td>improved</td>\n",
       "      <td>4</td>\n",
       "    </tr>\n",
       "    <tr>\n",
       "      <th>838471</th>\n",
       "      <td>EXECUTIVE</td>\n",
       "      <td>04 TO 06</td>\n",
       "      <td>146.0</td>\n",
       "      <td>maisonette</td>\n",
       "      <td>600000.0</td>\n",
       "      <td>66</td>\n",
       "      <td>1.300745</td>\n",
       "      <td>6</td>\n",
       "      <td>5.0</td>\n",
       "      <td>maisonette</td>\n",
       "      <td>6</td>\n",
       "    </tr>\n",
       "    <tr>\n",
       "      <th>838472</th>\n",
       "      <td>EXECUTIVE</td>\n",
       "      <td>10 TO 12</td>\n",
       "      <td>148.0</td>\n",
       "      <td>maisonette</td>\n",
       "      <td>655000.0</td>\n",
       "      <td>66</td>\n",
       "      <td>1.434293</td>\n",
       "      <td>6</td>\n",
       "      <td>11.0</td>\n",
       "      <td>maisonette</td>\n",
       "      <td>6</td>\n",
       "    </tr>\n",
       "    <tr>\n",
       "      <th>838473</th>\n",
       "      <td>EXECUTIVE</td>\n",
       "      <td>10 TO 12</td>\n",
       "      <td>146.0</td>\n",
       "      <td>maisonette</td>\n",
       "      <td>650000.0</td>\n",
       "      <td>66</td>\n",
       "      <td>0.749525</td>\n",
       "      <td>6</td>\n",
       "      <td>11.0</td>\n",
       "      <td>maisonette</td>\n",
       "      <td>6</td>\n",
       "    </tr>\n",
       "    <tr>\n",
       "      <th>838474</th>\n",
       "      <td>EXECUTIVE</td>\n",
       "      <td>01 TO 03</td>\n",
       "      <td>146.0</td>\n",
       "      <td>maisonette</td>\n",
       "      <td>607000.0</td>\n",
       "      <td>66</td>\n",
       "      <td>0.749525</td>\n",
       "      <td>6</td>\n",
       "      <td>2.0</td>\n",
       "      <td>maisonette</td>\n",
       "      <td>6</td>\n",
       "    </tr>\n",
       "    <tr>\n",
       "      <th>838475</th>\n",
       "      <td>EXECUTIVE</td>\n",
       "      <td>01 TO 03</td>\n",
       "      <td>142.0</td>\n",
       "      <td>apartment</td>\n",
       "      <td>670000.0</td>\n",
       "      <td>66</td>\n",
       "      <td>0.417792</td>\n",
       "      <td>6</td>\n",
       "      <td>2.0</td>\n",
       "      <td>apartment</td>\n",
       "      <td>2</td>\n",
       "    </tr>\n",
       "    <tr>\n",
       "      <th>838476</th>\n",
       "      <td>EXECUTIVE</td>\n",
       "      <td>07 TO 09</td>\n",
       "      <td>145.0</td>\n",
       "      <td>maisonette</td>\n",
       "      <td>660000.0</td>\n",
       "      <td>65</td>\n",
       "      <td>0.417792</td>\n",
       "      <td>6</td>\n",
       "      <td>8.0</td>\n",
       "      <td>maisonette</td>\n",
       "      <td>6</td>\n",
       "    </tr>\n",
       "  </tbody>\n",
       "</table>\n",
       "</div>"
      ],
      "text/plain": [
       "        flat_type storey_range  floor_area_sqm  flat_model  resale_price  \\\n",
       "838467     5 ROOM     07 TO 09           122.0    improved      467000.0   \n",
       "838468     5 ROOM     10 TO 12           122.0    improved      508000.0   \n",
       "838469     5 ROOM     01 TO 03           122.0    improved      450000.0   \n",
       "838470     5 ROOM     01 TO 03           122.0    improved      502000.0   \n",
       "838471  EXECUTIVE     04 TO 06           146.0  maisonette      600000.0   \n",
       "838472  EXECUTIVE     10 TO 12           148.0  maisonette      655000.0   \n",
       "838473  EXECUTIVE     10 TO 12           146.0  maisonette      650000.0   \n",
       "838474  EXECUTIVE     01 TO 03           146.0  maisonette      607000.0   \n",
       "838475  EXECUTIVE     01 TO 03           142.0   apartment      670000.0   \n",
       "838476  EXECUTIVE     07 TO 09           145.0  maisonette      660000.0   \n",
       "\n",
       "        remaining_lease  avgdist_nearestMRT  flattype_label  \\\n",
       "838467               64            0.698876               5   \n",
       "838468               64            0.332289               5   \n",
       "838469               66            0.417792               5   \n",
       "838470               66            0.417792               5   \n",
       "838471               66            1.300745               6   \n",
       "838472               66            1.434293               6   \n",
       "838473               66            0.749525               6   \n",
       "838474               66            0.749525               6   \n",
       "838475               66            0.417792               6   \n",
       "838476               65            0.417792               6   \n",
       "\n",
       "        storeyrange_label flat_model_l  flatmodel_label  \n",
       "838467                8.0     improved                4  \n",
       "838468               11.0     improved                4  \n",
       "838469                2.0     improved                4  \n",
       "838470                2.0     improved                4  \n",
       "838471                5.0   maisonette                6  \n",
       "838472               11.0   maisonette                6  \n",
       "838473               11.0   maisonette                6  \n",
       "838474                2.0   maisonette                6  \n",
       "838475                2.0    apartment                2  \n",
       "838476                8.0   maisonette                6  "
      ]
     },
     "execution_count": 122,
     "metadata": {},
     "output_type": "execute_result"
    }
   ],
   "source": [
    "flatmodel_labels = le.fit_transform(df['flat_model'])\n",
    "df['flatmodel_label'] = flatmodel_labels\n",
    "df.tail(10)"
   ]
  },
  {
   "cell_type": "code",
   "execution_count": 123,
   "metadata": {},
   "outputs": [
    {
     "data": {
      "text/plain": [
       "<seaborn.axisgrid.FacetGrid at 0x11e28af70>"
      ]
     },
     "execution_count": 123,
     "metadata": {},
     "output_type": "execute_result"
    },
    {
     "data": {
      "image/png": "[encoded data removed]",
      "text/plain": [
       "<Figure size 493.5x360 with 1 Axes>"
      ]
     },
     "metadata": {
      "needs_background": "light"
     },
     "output_type": "display_data"
    }
   ],
   "source": [
    "sns.catplot(x='flatmodel_label', y='resale_price',hue='flat_type', data=df)"
   ]
  },
  {
   "cell_type": "code",
   "execution_count": 124,
   "metadata": {},
   "outputs": [
    {
     "data": {
      "text/plain": [
       "<matplotlib.axes._subplots.AxesSubplot at 0x186f4bac0>"
      ]
     },
     "execution_count": 124,
     "metadata": {},
     "output_type": "execute_result"
    },
    {
     "name": "stderr",
     "output_type": "stream",
     "text": [
      "/Users/a-n-i-s/opt/anaconda3/lib/python3.8/site-packages/IPython/core/pylabtools.py:132: UserWarning: Creating legend with loc=\"best\" can be slow with large amounts of data.\n",
      "  fig.canvas.print_figure(bytes_io, **kw)\n"
     ]
    },
    {
     "data": {
      "image/png": "[encoded data removed]",
      "text/plain": [
       "<Figure size 432x288 with 1 Axes>"
      ]
     },
     "metadata": {
      "needs_background": "light"
     },
     "output_type": "display_data"
    }
   ],
   "source": [
    "sns.scatterplot(x='floor_area_sqm', y='resale_price', hue='flat_type', data=df)"
   ]
  },
  {
   "cell_type": "code",
   "execution_count": 125,
   "metadata": {},
   "outputs": [
    {
     "data": {
      "text/plain": [
       "<matplotlib.axes._subplots.AxesSubplot at 0x133e0c5e0>"
      ]
     },
     "execution_count": 125,
     "metadata": {},
     "output_type": "execute_result"
    },
    {
     "data": {
      "image/png": "[encoded data removed]",
      "text/plain": [
       "<Figure size 432x288 with 1 Axes>"
      ]
     },
     "metadata": {
      "needs_background": "light"
     },
     "output_type": "display_data"
    }
   ],
   "source": [
    "sns.scatterplot(x='remaining_lease', y='resale_price', hue='flat_type', data=df)"
   ]
  },
  {
   "cell_type": "code",
   "execution_count": 126,
   "metadata": {},
   "outputs": [],
   "source": [
    "#drop flatmodel as a variable because it's too complex at the moment\n",
    "df.drop('flat_model',axis='columns', inplace=True)\n",
    "df.drop('flatmodel_label',axis='columns', inplace=True)"
   ]
  },
  {
   "cell_type": "code",
   "execution_count": 127,
   "metadata": {},
   "outputs": [
    {
     "data": {
      "text/html": [
       "<div>\n",
       "<style scoped>\n",
       "    .dataframe tbody tr th:only-of-type {\n",
       "        vertical-align: middle;\n",
       "    }\n",
       "\n",
       "    .dataframe tbody tr th {\n",
       "        vertical-align: top;\n",
       "    }\n",
       "\n",
       "    .dataframe thead th {\n",
       "        text-align: right;\n",
       "    }\n",
       "</style>\n",
       "<table border=\"1\" class=\"dataframe\">\n",
       "  <thead>\n",
       "    <tr style=\"text-align: right;\">\n",
       "      <th></th>\n",
       "      <th>floor_area_sqm</th>\n",
       "      <th>resale_price</th>\n",
       "      <th>remaining_lease</th>\n",
       "      <th>avgdist_nearestMRT</th>\n",
       "      <th>flattype_label</th>\n",
       "      <th>storeyrange_label</th>\n",
       "      <th>flat_model_l</th>\n",
       "    </tr>\n",
       "  </thead>\n",
       "  <tbody>\n",
       "    <tr>\n",
       "      <th>0</th>\n",
       "      <td>31.0</td>\n",
       "      <td>9000.0</td>\n",
       "      <td>86</td>\n",
       "      <td>0.942066</td>\n",
       "      <td>1</td>\n",
       "      <td>11.0</td>\n",
       "      <td>improved</td>\n",
       "    </tr>\n",
       "    <tr>\n",
       "      <th>1</th>\n",
       "      <td>31.0</td>\n",
       "      <td>6000.0</td>\n",
       "      <td>86</td>\n",
       "      <td>0.942066</td>\n",
       "      <td>1</td>\n",
       "      <td>5.0</td>\n",
       "      <td>improved</td>\n",
       "    </tr>\n",
       "    <tr>\n",
       "      <th>2</th>\n",
       "      <td>31.0</td>\n",
       "      <td>8000.0</td>\n",
       "      <td>86</td>\n",
       "      <td>0.942066</td>\n",
       "      <td>1</td>\n",
       "      <td>11.0</td>\n",
       "      <td>improved</td>\n",
       "    </tr>\n",
       "    <tr>\n",
       "      <th>3</th>\n",
       "      <td>31.0</td>\n",
       "      <td>6000.0</td>\n",
       "      <td>86</td>\n",
       "      <td>0.942066</td>\n",
       "      <td>1</td>\n",
       "      <td>8.0</td>\n",
       "      <td>improved</td>\n",
       "    </tr>\n",
       "    <tr>\n",
       "      <th>4</th>\n",
       "      <td>73.0</td>\n",
       "      <td>47200.0</td>\n",
       "      <td>85</td>\n",
       "      <td>0.942066</td>\n",
       "      <td>3</td>\n",
       "      <td>5.0</td>\n",
       "      <td>new generation</td>\n",
       "    </tr>\n",
       "  </tbody>\n",
       "</table>\n",
       "</div>"
      ],
      "text/plain": [
       "   floor_area_sqm  resale_price  remaining_lease  avgdist_nearestMRT  \\\n",
       "0            31.0        9000.0               86            0.942066   \n",
       "1            31.0        6000.0               86            0.942066   \n",
       "2            31.0        8000.0               86            0.942066   \n",
       "3            31.0        6000.0               86            0.942066   \n",
       "4            73.0       47200.0               85            0.942066   \n",
       "\n",
       "   flattype_label  storeyrange_label    flat_model_l  \n",
       "0               1               11.0        improved  \n",
       "1               1                5.0        improved  \n",
       "2               1               11.0        improved  \n",
       "3               1                8.0        improved  \n",
       "4               3                5.0  new generation  "
      ]
     },
     "execution_count": 127,
     "metadata": {},
     "output_type": "execute_result"
    }
   ],
   "source": [
    "#drop flat_type and storey_range and just use the labels we pre-determined\n",
    "df.drop('flat_type',axis='columns', inplace=True)\n",
    "df.drop('storey_range',axis='columns', inplace=True)\n",
    "df.head(5)"
   ]
  },
  {
   "cell_type": "code",
   "execution_count": 128,
   "metadata": {},
   "outputs": [
    {
     "data": {
      "text/html": [
       "<div>\n",
       "<style scoped>\n",
       "    .dataframe tbody tr th:only-of-type {\n",
       "        vertical-align: middle;\n",
       "    }\n",
       "\n",
       "    .dataframe tbody tr th {\n",
       "        vertical-align: top;\n",
       "    }\n",
       "\n",
       "    .dataframe thead th {\n",
       "        text-align: right;\n",
       "    }\n",
       "</style>\n",
       "<table border=\"1\" class=\"dataframe\">\n",
       "  <thead>\n",
       "    <tr style=\"text-align: right;\">\n",
       "      <th></th>\n",
       "      <th>floor_area_sqm</th>\n",
       "      <th>resale_price</th>\n",
       "      <th>remaining_lease</th>\n",
       "      <th>avgdist_nearestMRT</th>\n",
       "      <th>flattype_label</th>\n",
       "      <th>storeyrange_label</th>\n",
       "    </tr>\n",
       "  </thead>\n",
       "  <tbody>\n",
       "    <tr>\n",
       "      <th>0</th>\n",
       "      <td>31.0</td>\n",
       "      <td>9000.0</td>\n",
       "      <td>86</td>\n",
       "      <td>0.942066</td>\n",
       "      <td>1</td>\n",
       "      <td>11.0</td>\n",
       "    </tr>\n",
       "    <tr>\n",
       "      <th>1</th>\n",
       "      <td>31.0</td>\n",
       "      <td>6000.0</td>\n",
       "      <td>86</td>\n",
       "      <td>0.942066</td>\n",
       "      <td>1</td>\n",
       "      <td>5.0</td>\n",
       "    </tr>\n",
       "    <tr>\n",
       "      <th>2</th>\n",
       "      <td>31.0</td>\n",
       "      <td>8000.0</td>\n",
       "      <td>86</td>\n",
       "      <td>0.942066</td>\n",
       "      <td>1</td>\n",
       "      <td>11.0</td>\n",
       "    </tr>\n",
       "    <tr>\n",
       "      <th>3</th>\n",
       "      <td>31.0</td>\n",
       "      <td>6000.0</td>\n",
       "      <td>86</td>\n",
       "      <td>0.942066</td>\n",
       "      <td>1</td>\n",
       "      <td>8.0</td>\n",
       "    </tr>\n",
       "    <tr>\n",
       "      <th>4</th>\n",
       "      <td>73.0</td>\n",
       "      <td>47200.0</td>\n",
       "      <td>85</td>\n",
       "      <td>0.942066</td>\n",
       "      <td>3</td>\n",
       "      <td>5.0</td>\n",
       "    </tr>\n",
       "  </tbody>\n",
       "</table>\n",
       "</div>"
      ],
      "text/plain": [
       "   floor_area_sqm  resale_price  remaining_lease  avgdist_nearestMRT  \\\n",
       "0            31.0        9000.0               86            0.942066   \n",
       "1            31.0        6000.0               86            0.942066   \n",
       "2            31.0        8000.0               86            0.942066   \n",
       "3            31.0        6000.0               86            0.942066   \n",
       "4            73.0       47200.0               85            0.942066   \n",
       "\n",
       "   flattype_label  storeyrange_label  \n",
       "0               1               11.0  \n",
       "1               1                5.0  \n",
       "2               1               11.0  \n",
       "3               1                8.0  \n",
       "4               3                5.0  "
      ]
     },
     "execution_count": 128,
     "metadata": {},
     "output_type": "execute_result"
    }
   ],
   "source": [
    "df.drop('flat_model_l',axis='columns', inplace=True)\n",
    "df.head(5)"
   ]
  },
  {
   "cell_type": "code",
   "execution_count": 129,
   "metadata": {},
   "outputs": [
    {
     "data": {
      "text/plain": [
       "floor_area_sqm        float64\n",
       "resale_price          float64\n",
       "remaining_lease         int64\n",
       "avgdist_nearestMRT    float64\n",
       "flattype_label          int64\n",
       "storeyrange_label     float64\n",
       "dtype: object"
      ]
     },
     "execution_count": 129,
     "metadata": {},
     "output_type": "execute_result"
    }
   ],
   "source": [
    "df.dtypes"
   ]
  },
  {
   "cell_type": "markdown",
   "metadata": {},
   "source": [
    "## Train and test sets"
   ]
  },
  {
   "cell_type": "code",
   "execution_count": 165,
   "metadata": {},
   "outputs": [
    {
     "data": {
      "text/plain": [
       "31"
      ]
     },
     "execution_count": 165,
     "metadata": {},
     "output_type": "execute_result"
    }
   ],
   "source": [
    "df = pd.get_dummies(df, columns=['flattype_label','storeyrange_label'], drop_first=True)\n",
    "len(df.columns)"
   ]
  },
  {
   "cell_type": "code",
   "execution_count": 166,
   "metadata": {},
   "outputs": [],
   "source": [
    "#separate into independent and dependent values\n",
    "from sklearn.model_selection import train_test_split\n",
    "X = df.loc[:, df.columns != 'resale_price']\n",
    "y = df.loc[:, 'resale_price']\n",
    "X_train, X_test, y_train, y_test = train_test_split(X, y, test_size=0.30, random_state=1)\n"
   ]
  },
  {
   "cell_type": "code",
   "execution_count": 167,
   "metadata": {},
   "outputs": [
    {
     "data": {
      "text/plain": [
       "30"
      ]
     },
     "execution_count": 167,
     "metadata": {},
     "output_type": "execute_result"
    }
   ],
   "source": [
    "len(X_train.columns)"
   ]
  },
  {
   "cell_type": "code",
   "execution_count": 170,
   "metadata": {},
   "outputs": [
    {
     "data": {
      "text/plain": [
       "30"
      ]
     },
     "execution_count": 170,
     "metadata": {},
     "output_type": "execute_result"
    }
   ],
   "source": [
    "len(X_test.columns)"
   ]
  },
  {
   "cell_type": "markdown",
   "metadata": {},
   "source": [
    "## Linear Regression"
   ]
  },
  {
   "cell_type": "code",
   "execution_count": 171,
   "metadata": {},
   "outputs": [
    {
     "data": {
      "text/plain": [
       "LinearRegression()"
      ]
     },
     "execution_count": 171,
     "metadata": {},
     "output_type": "execute_result"
    }
   ],
   "source": [
    "from sklearn.linear_model import LinearRegression\n",
    "regressor = LinearRegression()\n",
    "regressor.fit(X_train, y_train)"
   ]
  },
  {
   "cell_type": "code",
   "execution_count": 172,
   "metadata": {},
   "outputs": [
    {
     "name": "stdout",
     "output_type": "stream",
     "text": [
      "378886.58558190614\n",
      "[  1739.86968643  -5036.77421929 -10848.89844425  30280.81777955\n",
      "  67990.75766238 165264.15122306 222911.76990741 279336.59827737\n",
      " 274483.90173164 120647.15447495   6674.07949586  13293.05341548\n",
      "  16237.65966096 157075.23568691  51192.60423715  88028.76615998\n",
      " 228485.96636186 102394.53882132 125534.53742579 193492.44392022\n",
      " 452491.32160428 376571.70053711 543855.69588522 483445.86572081\n",
      " 548713.66461148 565462.9633988  597944.93515663 769913.40729664\n",
      " 747533.7593859  789565.35070064]\n"
     ]
    }
   ],
   "source": [
    "#To retrieve the intercept:\n",
    "print(regressor.intercept_)\n",
    "\n",
    "#For retrieving the slope:\n",
    "print(regressor.coef_)"
   ]
  },
  {
   "cell_type": "code",
   "execution_count": 177,
   "metadata": {},
   "outputs": [],
   "source": [
    "y_reg_pred = regressor.predict(X_test)"
   ]
  },
  {
   "cell_type": "code",
   "execution_count": 178,
   "metadata": {},
   "outputs": [
    {
     "data": {
      "text/html": [
       "<div>\n",
       "<style scoped>\n",
       "    .dataframe tbody tr th:only-of-type {\n",
       "        vertical-align: middle;\n",
       "    }\n",
       "\n",
       "    .dataframe tbody tr th {\n",
       "        vertical-align: top;\n",
       "    }\n",
       "\n",
       "    .dataframe thead th {\n",
       "        text-align: right;\n",
       "    }\n",
       "</style>\n",
       "<table border=\"1\" class=\"dataframe\">\n",
       "  <thead>\n",
       "    <tr style=\"text-align: right;\">\n",
       "      <th></th>\n",
       "      <th>Actual</th>\n",
       "      <th>Predicted</th>\n",
       "    </tr>\n",
       "  </thead>\n",
       "  <tbody>\n",
       "    <tr>\n",
       "      <th>263284</th>\n",
       "      <td>220500.0</td>\n",
       "      <td>309205.910475</td>\n",
       "    </tr>\n",
       "    <tr>\n",
       "      <th>705556</th>\n",
       "      <td>450000.0</td>\n",
       "      <td>474571.139531</td>\n",
       "    </tr>\n",
       "    <tr>\n",
       "      <th>421710</th>\n",
       "      <td>125000.0</td>\n",
       "      <td>178312.518967</td>\n",
       "    </tr>\n",
       "    <tr>\n",
       "      <th>50389</th>\n",
       "      <td>63000.0</td>\n",
       "      <td>96051.870254</td>\n",
       "    </tr>\n",
       "    <tr>\n",
       "      <th>729347</th>\n",
       "      <td>335000.0</td>\n",
       "      <td>265731.884146</td>\n",
       "    </tr>\n",
       "    <tr>\n",
       "      <th>5458</th>\n",
       "      <td>50000.0</td>\n",
       "      <td>152871.733916</td>\n",
       "    </tr>\n",
       "    <tr>\n",
       "      <th>616069</th>\n",
       "      <td>235000.0</td>\n",
       "      <td>222937.544092</td>\n",
       "    </tr>\n",
       "    <tr>\n",
       "      <th>495171</th>\n",
       "      <td>157500.0</td>\n",
       "      <td>238857.261712</td>\n",
       "    </tr>\n",
       "    <tr>\n",
       "      <th>744266</th>\n",
       "      <td>650000.0</td>\n",
       "      <td>305577.463445</td>\n",
       "    </tr>\n",
       "    <tr>\n",
       "      <th>774543</th>\n",
       "      <td>270000.0</td>\n",
       "      <td>272557.484072</td>\n",
       "    </tr>\n",
       "  </tbody>\n",
       "</table>\n",
       "</div>"
      ],
      "text/plain": [
       "          Actual      Predicted\n",
       "263284  220500.0  309205.910475\n",
       "705556  450000.0  474571.139531\n",
       "421710  125000.0  178312.518967\n",
       "50389    63000.0   96051.870254\n",
       "729347  335000.0  265731.884146\n",
       "5458     50000.0  152871.733916\n",
       "616069  235000.0  222937.544092\n",
       "495171  157500.0  238857.261712\n",
       "744266  650000.0  305577.463445\n",
       "774543  270000.0  272557.484072"
      ]
     },
     "execution_count": 178,
     "metadata": {},
     "output_type": "execute_result"
    }
   ],
   "source": [
    "df_regpred = pd.DataFrame({'Actual': y_test, 'Predicted': y_reg_pred.flatten()})\n",
    "df_regpred.sample(10, replace = False)\n"
   ]
  },
  {
   "cell_type": "code",
   "execution_count": 175,
   "metadata": {},
   "outputs": [
    {
     "data": {
      "text/html": [
       "<div>\n",
       "<style scoped>\n",
       "    .dataframe tbody tr th:only-of-type {\n",
       "        vertical-align: middle;\n",
       "    }\n",
       "\n",
       "    .dataframe tbody tr th {\n",
       "        vertical-align: top;\n",
       "    }\n",
       "\n",
       "    .dataframe thead th {\n",
       "        text-align: right;\n",
       "    }\n",
       "</style>\n",
       "<table border=\"1\" class=\"dataframe\">\n",
       "  <thead>\n",
       "    <tr style=\"text-align: right;\">\n",
       "      <th></th>\n",
       "      <th>Feature</th>\n",
       "      <th>Coefficients</th>\n",
       "    </tr>\n",
       "  </thead>\n",
       "  <tbody>\n",
       "    <tr>\n",
       "      <th>0</th>\n",
       "      <td>floor_area_sqm</td>\n",
       "      <td>1739.869686</td>\n",
       "    </tr>\n",
       "    <tr>\n",
       "      <th>1</th>\n",
       "      <td>remaining_lease</td>\n",
       "      <td>-5036.774219</td>\n",
       "    </tr>\n",
       "    <tr>\n",
       "      <th>2</th>\n",
       "      <td>avgdist_nearestMRT</td>\n",
       "      <td>-10848.898444</td>\n",
       "    </tr>\n",
       "    <tr>\n",
       "      <th>3</th>\n",
       "      <td>flattype_label_2</td>\n",
       "      <td>30280.817780</td>\n",
       "    </tr>\n",
       "    <tr>\n",
       "      <th>4</th>\n",
       "      <td>flattype_label_3</td>\n",
       "      <td>67990.757662</td>\n",
       "    </tr>\n",
       "    <tr>\n",
       "      <th>5</th>\n",
       "      <td>flattype_label_4</td>\n",
       "      <td>165264.151223</td>\n",
       "    </tr>\n",
       "    <tr>\n",
       "      <th>6</th>\n",
       "      <td>flattype_label_5</td>\n",
       "      <td>222911.769907</td>\n",
       "    </tr>\n",
       "    <tr>\n",
       "      <th>7</th>\n",
       "      <td>flattype_label_6</td>\n",
       "      <td>279336.598277</td>\n",
       "    </tr>\n",
       "    <tr>\n",
       "      <th>8</th>\n",
       "      <td>flattype_label_7</td>\n",
       "      <td>274483.901732</td>\n",
       "    </tr>\n",
       "    <tr>\n",
       "      <th>9</th>\n",
       "      <td>storeyrange_label_3.0</td>\n",
       "      <td>120647.154475</td>\n",
       "    </tr>\n",
       "    <tr>\n",
       "      <th>10</th>\n",
       "      <td>storeyrange_label_5.0</td>\n",
       "      <td>6674.079496</td>\n",
       "    </tr>\n",
       "    <tr>\n",
       "      <th>11</th>\n",
       "      <td>storeyrange_label_8.0</td>\n",
       "      <td>13293.053415</td>\n",
       "    </tr>\n",
       "    <tr>\n",
       "      <th>12</th>\n",
       "      <td>storeyrange_label_11.0</td>\n",
       "      <td>16237.659661</td>\n",
       "    </tr>\n",
       "    <tr>\n",
       "      <th>13</th>\n",
       "      <td>storeyrange_label_13.0</td>\n",
       "      <td>157075.235687</td>\n",
       "    </tr>\n",
       "    <tr>\n",
       "      <th>14</th>\n",
       "      <td>storeyrange_label_14.0</td>\n",
       "      <td>51192.604237</td>\n",
       "    </tr>\n",
       "    <tr>\n",
       "      <th>15</th>\n",
       "      <td>storeyrange_label_17.0</td>\n",
       "      <td>88028.766160</td>\n",
       "    </tr>\n",
       "    <tr>\n",
       "      <th>16</th>\n",
       "      <td>storeyrange_label_18.0</td>\n",
       "      <td>228485.966362</td>\n",
       "    </tr>\n",
       "    <tr>\n",
       "      <th>17</th>\n",
       "      <td>storeyrange_label_20.0</td>\n",
       "      <td>102394.538821</td>\n",
       "    </tr>\n",
       "    <tr>\n",
       "      <th>18</th>\n",
       "      <td>storeyrange_label_23.0</td>\n",
       "      <td>125534.537426</td>\n",
       "    </tr>\n",
       "    <tr>\n",
       "      <th>19</th>\n",
       "      <td>storeyrange_label_26.0</td>\n",
       "      <td>193492.443920</td>\n",
       "    </tr>\n",
       "    <tr>\n",
       "      <th>20</th>\n",
       "      <td>storeyrange_label_28.0</td>\n",
       "      <td>452491.321604</td>\n",
       "    </tr>\n",
       "    <tr>\n",
       "      <th>21</th>\n",
       "      <td>storeyrange_label_29.0</td>\n",
       "      <td>376571.700537</td>\n",
       "    </tr>\n",
       "    <tr>\n",
       "      <th>22</th>\n",
       "      <td>storeyrange_label_32.0</td>\n",
       "      <td>543855.695885</td>\n",
       "    </tr>\n",
       "    <tr>\n",
       "      <th>23</th>\n",
       "      <td>storeyrange_label_33.0</td>\n",
       "      <td>483445.865721</td>\n",
       "    </tr>\n",
       "    <tr>\n",
       "      <th>24</th>\n",
       "      <td>storeyrange_label_35.0</td>\n",
       "      <td>548713.664611</td>\n",
       "    </tr>\n",
       "    <tr>\n",
       "      <th>25</th>\n",
       "      <td>storeyrange_label_38.0</td>\n",
       "      <td>565462.963399</td>\n",
       "    </tr>\n",
       "    <tr>\n",
       "      <th>26</th>\n",
       "      <td>storeyrange_label_41.0</td>\n",
       "      <td>597944.935157</td>\n",
       "    </tr>\n",
       "    <tr>\n",
       "      <th>27</th>\n",
       "      <td>storeyrange_label_44.0</td>\n",
       "      <td>769913.407297</td>\n",
       "    </tr>\n",
       "    <tr>\n",
       "      <th>28</th>\n",
       "      <td>storeyrange_label_47.0</td>\n",
       "      <td>747533.759386</td>\n",
       "    </tr>\n",
       "    <tr>\n",
       "      <th>29</th>\n",
       "      <td>storeyrange_label_50.0</td>\n",
       "      <td>789565.350701</td>\n",
       "    </tr>\n",
       "  </tbody>\n",
       "</table>\n",
       "</div>"
      ],
      "text/plain": [
       "                   Feature   Coefficients\n",
       "0           floor_area_sqm    1739.869686\n",
       "1          remaining_lease   -5036.774219\n",
       "2       avgdist_nearestMRT  -10848.898444\n",
       "3         flattype_label_2   30280.817780\n",
       "4         flattype_label_3   67990.757662\n",
       "5         flattype_label_4  165264.151223\n",
       "6         flattype_label_5  222911.769907\n",
       "7         flattype_label_6  279336.598277\n",
       "8         flattype_label_7  274483.901732\n",
       "9    storeyrange_label_3.0  120647.154475\n",
       "10   storeyrange_label_5.0    6674.079496\n",
       "11   storeyrange_label_8.0   13293.053415\n",
       "12  storeyrange_label_11.0   16237.659661\n",
       "13  storeyrange_label_13.0  157075.235687\n",
       "14  storeyrange_label_14.0   51192.604237\n",
       "15  storeyrange_label_17.0   88028.766160\n",
       "16  storeyrange_label_18.0  228485.966362\n",
       "17  storeyrange_label_20.0  102394.538821\n",
       "18  storeyrange_label_23.0  125534.537426\n",
       "19  storeyrange_label_26.0  193492.443920\n",
       "20  storeyrange_label_28.0  452491.321604\n",
       "21  storeyrange_label_29.0  376571.700537\n",
       "22  storeyrange_label_32.0  543855.695885\n",
       "23  storeyrange_label_33.0  483445.865721\n",
       "24  storeyrange_label_35.0  548713.664611\n",
       "25  storeyrange_label_38.0  565462.963399\n",
       "26  storeyrange_label_41.0  597944.935157\n",
       "27  storeyrange_label_44.0  769913.407297\n",
       "28  storeyrange_label_47.0  747533.759386\n",
       "29  storeyrange_label_50.0  789565.350701"
      ]
     },
     "execution_count": 175,
     "metadata": {},
     "output_type": "execute_result"
    }
   ],
   "source": [
    "X_colnames = list(X_train.columns)\n",
    "df_reg_coef = pd.DataFrame({'Feature': X_colnames, 'Coefficients': regressor.coef_})\n",
    "df_reg_coef"
   ]
  },
  {
   "cell_type": "code",
   "execution_count": 179,
   "metadata": {},
   "outputs": [
    {
     "data": {
      "text/plain": [
       "0.5589379264835455"
      ]
     },
     "execution_count": 179,
     "metadata": {},
     "output_type": "execute_result"
    }
   ],
   "source": [
    "#r-squared score\n",
    "sklearn.metrics.r2_score(y_test, y_reg_pred)"
   ]
  },
  {
   "cell_type": "code",
   "execution_count": 180,
   "metadata": {},
   "outputs": [
    {
     "data": {
      "text/plain": [
       "99250.11891357515"
      ]
     },
     "execution_count": 180,
     "metadata": {},
     "output_type": "execute_result"
    }
   ],
   "source": [
    "#find root mean squared error\n",
    "from sklearn.metrics import mean_squared_error\n",
    "import math\n",
    "rmse_reg = math.sqrt(mean_squared_error(y_test,y_reg_pred)) #calculate rmse\n",
    "rmse_reg"
   ]
  },
  {
   "cell_type": "markdown",
   "metadata": {},
   "source": [
    "## XGBoost"
   ]
  },
  {
   "cell_type": "code",
   "execution_count": 181,
   "metadata": {},
   "outputs": [
    {
     "name": "stdout",
     "output_type": "stream",
     "text": [
      "[17:58:43] WARNING: /Users/travis/build/dmlc/xgboost/src/objective/regression_obj.cu:170: reg:linear is now deprecated in favor of reg:squarederror.\n"
     ]
    },
    {
     "data": {
      "text/plain": [
       "XGBRegressor(alpha=10, base_score=0.5, booster='gbtree', colsample_bylevel=1,\n",
       "             colsample_bynode=1, colsample_bytree=0.3, gamma=0, gpu_id=-1,\n",
       "             importance_type='gain', interaction_constraints='',\n",
       "             learning_rate=0.1, max_delta_step=0, max_depth=500,\n",
       "             min_child_weight=1, missing=nan, monotone_constraints='()',\n",
       "             n_estimators=100, n_jobs=4, num_parallel_tree=1,\n",
       "             objective='reg:linear', random_state=0, reg_alpha=10, reg_lambda=1,\n",
       "             scale_pos_weight=1, subsample=1, tree_method='exact',\n",
       "             validate_parameters=1, verbosity=None)"
      ]
     },
     "execution_count": 181,
     "metadata": {},
     "output_type": "execute_result"
    }
   ],
   "source": [
    "import xgboost as xgb\n",
    "df_xgb = xgb.DMatrix(data=X,label=y)\n",
    "xgb_regression = xgb.XGBRegressor(objective ='reg:linear', colsample_bytree = 0.3, learning_rate = 0.1,\n",
    "                max_depth = 500, alpha = 10, n_estimators = 100)\n",
    "xgb_regression.fit(X_train, y_train)"
   ]
  },
  {
   "cell_type": "code",
   "execution_count": 182,
   "metadata": {},
   "outputs": [],
   "source": [
    "y_xgb_pred = xgb_regression.predict(X_test)"
   ]
  },
  {
   "cell_type": "code",
   "execution_count": 183,
   "metadata": {},
   "outputs": [
    {
     "data": {
      "text/html": [
       "<div>\n",
       "<style scoped>\n",
       "    .dataframe tbody tr th:only-of-type {\n",
       "        vertical-align: middle;\n",
       "    }\n",
       "\n",
       "    .dataframe tbody tr th {\n",
       "        vertical-align: top;\n",
       "    }\n",
       "\n",
       "    .dataframe thead th {\n",
       "        text-align: right;\n",
       "    }\n",
       "</style>\n",
       "<table border=\"1\" class=\"dataframe\">\n",
       "  <thead>\n",
       "    <tr style=\"text-align: right;\">\n",
       "      <th></th>\n",
       "      <th>Actual</th>\n",
       "      <th>Predicted</th>\n",
       "    </tr>\n",
       "  </thead>\n",
       "  <tbody>\n",
       "    <tr>\n",
       "      <th>463807</th>\n",
       "      <td>250000.0</td>\n",
       "      <td>241353.765625</td>\n",
       "    </tr>\n",
       "    <tr>\n",
       "      <th>133559</th>\n",
       "      <td>73500.0</td>\n",
       "      <td>83350.351562</td>\n",
       "    </tr>\n",
       "    <tr>\n",
       "      <th>482228</th>\n",
       "      <td>160000.0</td>\n",
       "      <td>183415.031250</td>\n",
       "    </tr>\n",
       "    <tr>\n",
       "      <th>700466</th>\n",
       "      <td>641888.0</td>\n",
       "      <td>678942.437500</td>\n",
       "    </tr>\n",
       "    <tr>\n",
       "      <th>276906</th>\n",
       "      <td>442000.0</td>\n",
       "      <td>455613.062500</td>\n",
       "    </tr>\n",
       "    <tr>\n",
       "      <th>305954</th>\n",
       "      <td>108000.0</td>\n",
       "      <td>137629.734375</td>\n",
       "    </tr>\n",
       "    <tr>\n",
       "      <th>179178</th>\n",
       "      <td>210000.0</td>\n",
       "      <td>171500.750000</td>\n",
       "    </tr>\n",
       "    <tr>\n",
       "      <th>446048</th>\n",
       "      <td>186000.0</td>\n",
       "      <td>192443.156250</td>\n",
       "    </tr>\n",
       "    <tr>\n",
       "      <th>87387</th>\n",
       "      <td>227000.0</td>\n",
       "      <td>270102.812500</td>\n",
       "    </tr>\n",
       "    <tr>\n",
       "      <th>496473</th>\n",
       "      <td>130000.0</td>\n",
       "      <td>152093.890625</td>\n",
       "    </tr>\n",
       "  </tbody>\n",
       "</table>\n",
       "</div>"
      ],
      "text/plain": [
       "          Actual      Predicted\n",
       "463807  250000.0  241353.765625\n",
       "133559   73500.0   83350.351562\n",
       "482228  160000.0  183415.031250\n",
       "700466  641888.0  678942.437500\n",
       "276906  442000.0  455613.062500\n",
       "305954  108000.0  137629.734375\n",
       "179178  210000.0  171500.750000\n",
       "446048  186000.0  192443.156250\n",
       "87387   227000.0  270102.812500\n",
       "496473  130000.0  152093.890625"
      ]
     },
     "execution_count": 183,
     "metadata": {},
     "output_type": "execute_result"
    }
   ],
   "source": [
    "df_xgbreg = pd.DataFrame({'Actual': y_test, 'Predicted': y_xgb_pred.flatten()})\n",
    "df_xgbreg.sample(10, replace=False)"
   ]
  },
  {
   "cell_type": "code",
   "execution_count": 184,
   "metadata": {},
   "outputs": [
    {
     "data": {
      "text/plain": [
       "0.9111113868124732"
      ]
     },
     "execution_count": 184,
     "metadata": {},
     "output_type": "execute_result"
    }
   ],
   "source": [
    "#find r_squared\n",
    "sklearn.metrics.r2_score(y_test, y_xgb_pred)"
   ]
  },
  {
   "cell_type": "code",
   "execution_count": 185,
   "metadata": {},
   "outputs": [
    {
     "data": {
      "text/plain": [
       "44555.79977207787"
      ]
     },
     "execution_count": 185,
     "metadata": {},
     "output_type": "execute_result"
    }
   ],
   "source": [
    "#find root mean squared error\n",
    "rmse_xgb = math.sqrt(mean_squared_error(y_test,y_xgb_pred)) #calculate rmse\n",
    "rmse_xgb"
   ]
  },
  {
   "cell_type": "markdown",
   "metadata": {},
   "source": [
    "### Cross-validation for XGBoost"
   ]
  },
  {
   "cell_type": "code",
   "execution_count": 186,
   "metadata": {},
   "outputs": [
    {
     "name": "stdout",
     "output_type": "stream",
     "text": [
      "[18:03:27] WARNING: /Users/travis/build/dmlc/xgboost/src/objective/regression_obj.cu:170: reg:linear is now deprecated in favor of reg:squarederror.\n",
      "[18:03:29] WARNING: /Users/travis/build/dmlc/xgboost/src/objective/regression_obj.cu:170: reg:linear is now deprecated in favor of reg:squarederror.\n",
      "[18:03:30] WARNING: /Users/travis/build/dmlc/xgboost/src/objective/regression_obj.cu:170: reg:linear is now deprecated in favor of reg:squarederror.\n",
      "[18:03:32] WARNING: /Users/travis/build/dmlc/xgboost/src/objective/regression_obj.cu:170: reg:linear is now deprecated in favor of reg:squarederror.\n",
      "[18:03:34] WARNING: /Users/travis/build/dmlc/xgboost/src/objective/regression_obj.cu:170: reg:linear is now deprecated in favor of reg:squarederror.\n",
      "[18:03:36] WARNING: /Users/travis/build/dmlc/xgboost/src/objective/regression_obj.cu:170: reg:linear is now deprecated in favor of reg:squarederror.\n",
      "[18:03:37] WARNING: /Users/travis/build/dmlc/xgboost/src/objective/regression_obj.cu:170: reg:linear is now deprecated in favor of reg:squarederror.\n",
      "[18:03:39] WARNING: /Users/travis/build/dmlc/xgboost/src/objective/regression_obj.cu:170: reg:linear is now deprecated in favor of reg:squarederror.\n",
      "[18:03:41] WARNING: /Users/travis/build/dmlc/xgboost/src/objective/regression_obj.cu:170: reg:linear is now deprecated in favor of reg:squarederror.\n",
      "[18:03:43] WARNING: /Users/travis/build/dmlc/xgboost/src/objective/regression_obj.cu:170: reg:linear is now deprecated in favor of reg:squarederror.\n"
     ]
    }
   ],
   "source": [
    "params = {\"objective\":\"reg:linear\",'colsample_bytree': 0.3,'learning_rate': 0.1,\n",
    "                'max_depth': 500, 'alpha': 10}\n",
    "\n",
    "cv_results = xgb.cv(dtrain=df_xgb, params=params, nfold=10,\n",
    "                    num_boost_round=100,early_stopping_rounds=10,metrics=\"rmse\", as_pandas=True, seed=123)"
   ]
  },
  {
   "cell_type": "code",
   "execution_count": 187,
   "metadata": {},
   "outputs": [
    {
     "data": {
      "text/html": [
       "<div>\n",
       "<style scoped>\n",
       "    .dataframe tbody tr th:only-of-type {\n",
       "        vertical-align: middle;\n",
       "    }\n",
       "\n",
       "    .dataframe tbody tr th {\n",
       "        vertical-align: top;\n",
       "    }\n",
       "\n",
       "    .dataframe thead th {\n",
       "        text-align: right;\n",
       "    }\n",
       "</style>\n",
       "<table border=\"1\" class=\"dataframe\">\n",
       "  <thead>\n",
       "    <tr style=\"text-align: right;\">\n",
       "      <th></th>\n",
       "      <th>train-rmse-mean</th>\n",
       "      <th>train-rmse-std</th>\n",
       "      <th>test-rmse-mean</th>\n",
       "      <th>test-rmse-std</th>\n",
       "    </tr>\n",
       "  </thead>\n",
       "  <tbody>\n",
       "    <tr>\n",
       "      <th>99</th>\n",
       "      <td>43772.423047</td>\n",
       "      <td>4185.551258</td>\n",
       "      <td>46851.071875</td>\n",
       "      <td>3575.89592</td>\n",
       "    </tr>\n",
       "  </tbody>\n",
       "</table>\n",
       "</div>"
      ],
      "text/plain": [
       "    train-rmse-mean  train-rmse-std  test-rmse-mean  test-rmse-std\n",
       "99     43772.423047     4185.551258    46851.071875     3575.89592"
      ]
     },
     "execution_count": 187,
     "metadata": {},
     "output_type": "execute_result"
    }
   ],
   "source": [
    "cv_results.tail(1)"
   ]
  },
  {
   "cell_type": "markdown",
   "metadata": {},
   "source": [
    "## K-Nearest Neighbours"
   ]
  },
  {
   "cell_type": "code",
   "execution_count": 189,
   "metadata": {},
   "outputs": [
    {
     "data": {
      "text/plain": [
       "763.2935215236665"
      ]
     },
     "execution_count": 189,
     "metadata": {},
     "output_type": "execute_result"
    }
   ],
   "source": [
    "math.sqrt(len(X_train))"
   ]
  },
  {
   "cell_type": "code",
   "execution_count": 190,
   "metadata": {},
   "outputs": [
    {
     "data": {
      "text/plain": [
       "499.6939063066509"
      ]
     },
     "execution_count": 190,
     "metadata": {},
     "output_type": "execute_result"
    }
   ],
   "source": [
    "math.sqrt(len(X_test))"
   ]
  },
  {
   "cell_type": "code",
   "execution_count": 191,
   "metadata": {},
   "outputs": [
    {
     "data": {
      "text/plain": [
       "912.3108023036887"
      ]
     },
     "execution_count": 191,
     "metadata": {},
     "output_type": "execute_result"
    }
   ],
   "source": [
    "math.sqrt(len(X))"
   ]
  },
  {
   "cell_type": "code",
   "execution_count": 193,
   "metadata": {},
   "outputs": [
    {
     "name": "stderr",
     "output_type": "stream",
     "text": [
      "/Users/a-n-i-s/opt/anaconda3/lib/python3.8/site-packages/sklearn/utils/deprecation.py:143: FutureWarning: The sklearn.preprocessing.data module is  deprecated in version 0.22 and will be removed in version 0.24. The corresponding classes / functions should instead be imported from sklearn.preprocessing. Anything that cannot be imported from sklearn.preprocessing is now part of the private API.\n",
      "  warnings.warn(message, FutureWarning)\n"
     ]
    }
   ],
   "source": [
    "k = 750\n",
    "from sklearn.preprocessing.data import StandardScaler\n",
    "scaler = StandardScaler()\n",
    "X_train_std = scaler.fit_transform(X_train)\n",
    "X_test_std = scaler.transform(X_test)"
   ]
  },
  {
   "cell_type": "code",
   "execution_count": 194,
   "metadata": {},
   "outputs": [
    {
     "data": {
      "text/plain": [
       "KNeighborsRegressor(n_neighbors=750, p=1, weights='distance')"
      ]
     },
     "execution_count": 194,
     "metadata": {},
     "output_type": "execute_result"
    }
   ],
   "source": [
    "from sklearn.neighbors import KNeighborsRegressor\n",
    "KNN = KNeighborsRegressor(n_neighbors=k, weights='distance', p=1)\n",
    "KNN.fit(X_train_std, y_train) "
   ]
  },
  {
   "cell_type": "code",
   "execution_count": 195,
   "metadata": {},
   "outputs": [],
   "source": [
    "y_knn_pred = KNN.predict(X_test_std)"
   ]
  },
  {
   "cell_type": "code",
   "execution_count": 196,
   "metadata": {},
   "outputs": [
    {
     "data": {
      "text/html": [
       "<div>\n",
       "<style scoped>\n",
       "    .dataframe tbody tr th:only-of-type {\n",
       "        vertical-align: middle;\n",
       "    }\n",
       "\n",
       "    .dataframe tbody tr th {\n",
       "        vertical-align: top;\n",
       "    }\n",
       "\n",
       "    .dataframe thead th {\n",
       "        text-align: right;\n",
       "    }\n",
       "</style>\n",
       "<table border=\"1\" class=\"dataframe\">\n",
       "  <thead>\n",
       "    <tr style=\"text-align: right;\">\n",
       "      <th></th>\n",
       "      <th>Actual</th>\n",
       "      <th>Predicted</th>\n",
       "    </tr>\n",
       "  </thead>\n",
       "  <tbody>\n",
       "    <tr>\n",
       "      <th>641888</th>\n",
       "      <td>675000.0</td>\n",
       "      <td>600836.936470</td>\n",
       "    </tr>\n",
       "    <tr>\n",
       "      <th>222518</th>\n",
       "      <td>380000.0</td>\n",
       "      <td>333666.666667</td>\n",
       "    </tr>\n",
       "    <tr>\n",
       "      <th>237065</th>\n",
       "      <td>118300.0</td>\n",
       "      <td>118000.000000</td>\n",
       "    </tr>\n",
       "    <tr>\n",
       "      <th>109199</th>\n",
       "      <td>510000.0</td>\n",
       "      <td>377000.000000</td>\n",
       "    </tr>\n",
       "    <tr>\n",
       "      <th>50030</th>\n",
       "      <td>165000.0</td>\n",
       "      <td>297014.489022</td>\n",
       "    </tr>\n",
       "    <tr>\n",
       "      <th>...</th>\n",
       "      <td>...</td>\n",
       "      <td>...</td>\n",
       "    </tr>\n",
       "    <tr>\n",
       "      <th>626140</th>\n",
       "      <td>313000.0</td>\n",
       "      <td>307666.666667</td>\n",
       "    </tr>\n",
       "    <tr>\n",
       "      <th>460492</th>\n",
       "      <td>170000.0</td>\n",
       "      <td>181375.000000</td>\n",
       "    </tr>\n",
       "    <tr>\n",
       "      <th>44497</th>\n",
       "      <td>182000.0</td>\n",
       "      <td>147666.666667</td>\n",
       "    </tr>\n",
       "    <tr>\n",
       "      <th>699668</th>\n",
       "      <td>448000.0</td>\n",
       "      <td>420000.000000</td>\n",
       "    </tr>\n",
       "    <tr>\n",
       "      <th>157749</th>\n",
       "      <td>235000.0</td>\n",
       "      <td>228500.000000</td>\n",
       "    </tr>\n",
       "  </tbody>\n",
       "</table>\n",
       "<p>249694 rows × 2 columns</p>\n",
       "</div>"
      ],
      "text/plain": [
       "          Actual      Predicted\n",
       "641888  675000.0  600836.936470\n",
       "222518  380000.0  333666.666667\n",
       "237065  118300.0  118000.000000\n",
       "109199  510000.0  377000.000000\n",
       "50030   165000.0  297014.489022\n",
       "...          ...            ...\n",
       "626140  313000.0  307666.666667\n",
       "460492  170000.0  181375.000000\n",
       "44497   182000.0  147666.666667\n",
       "699668  448000.0  420000.000000\n",
       "157749  235000.0  228500.000000\n",
       "\n",
       "[249694 rows x 2 columns]"
      ]
     },
     "execution_count": 196,
     "metadata": {},
     "output_type": "execute_result"
    }
   ],
   "source": [
    "df_knn_pred = pd.DataFrame({'Actual': y_test, 'Predicted': y_knn_pred.flatten()})\n",
    "df_knn_pred"
   ]
  },
  {
   "cell_type": "code",
   "execution_count": 197,
   "metadata": {},
   "outputs": [
    {
     "data": {
      "text/plain": [
       "64953.29915562648"
      ]
     },
     "execution_count": 197,
     "metadata": {},
     "output_type": "execute_result"
    }
   ],
   "source": [
    "rmse_knn = math.sqrt(mean_squared_error(y_test,y_knn_pred)) #calculate rmse\n",
    "rmse_knn"
   ]
  },
  {
   "cell_type": "markdown",
   "metadata": {},
   "source": [
    "k = 397 --> rmse = 64419.81\n",
    "k = 750 --> rmse = 64953.29"
   ]
  }
 ],
 "metadata": {
  "kernelspec": {
   "display_name": "Python 3",
   "language": "python",
   "name": "python3"
  },
  "language_info": {
   "codemirror_mode": {
    "name": "ipython",
    "version": 3
   },
   "file_extension": ".py",
   "mimetype": "text/x-python",
   "name": "python",
   "nbconvert_exporter": "python",
   "pygments_lexer": "ipython3",
   "version": "3.8.3"
  }
 },
 "nbformat": 4,
 "nbformat_minor": 4
}
